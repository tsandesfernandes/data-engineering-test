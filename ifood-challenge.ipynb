{
 "cells": [
  {
   "cell_type": "code",
   "execution_count": 1,
   "metadata": {},
   "outputs": [
    {
     "data": {
      "text/html": [
       "<style scoped>\n",
       "  .ansiout {\n",
       "    display: block;\n",
       "    unicode-bidi: embed;\n",
       "    white-space: pre-wrap;\n",
       "    word-wrap: break-word;\n",
       "    word-break: break-all;\n",
       "    font-family: \"Source Code Pro\", \"Menlo\", monospace;;\n",
       "    font-size: 13px;\n",
       "    color: #555;\n",
       "    margin-left: 4px;\n",
       "    line-height: 19px;\n",
       "  }\n",
       "</style>\n",
       "<div class=\"ansiout\"></div>"
      ]
     },
     "metadata": {},
     "output_type": "display_data"
    }
   ],
   "source": [
    "from pyspark.sql.types import *\n",
    "from pyspark.sql.functions import *\n",
    "\n",
    "from datetime import datetime\n",
    "from collections import namedtuple\n",
    "import dateutil.parser"
   ]
  },
  {
   "cell_type": "code",
   "execution_count": 2,
   "metadata": {},
   "outputs": [
    {
     "data": {
      "text/html": [
       "<style scoped>\n",
       "  .ansiout {\n",
       "    display: block;\n",
       "    unicode-bidi: embed;\n",
       "    white-space: pre-wrap;\n",
       "    word-wrap: break-word;\n",
       "    word-break: break-all;\n",
       "    font-family: \"Source Code Pro\", \"Menlo\", monospace;;\n",
       "    font-size: 13px;\n",
       "    color: #555;\n",
       "    margin-left: 4px;\n",
       "    line-height: 19px;\n",
       "  }\n",
       "</style>\n",
       "<div class=\"ansiout\"></div>"
      ]
     },
     "metadata": {},
     "output_type": "display_data"
    }
   ],
   "source": [
    "#copiado os arquivos do s3 de s3://ifood-data-architect-test-source/ para o pessoal s3://databricks-dev-ifood-bucket\n",
    "#aws s3 cp s3://ifood-data-architect-test-source/order.json.gz s3://databricks-dev-ifood-bucket/\n",
    "#aws s3 cp s3://ifood-data-architect-test-source/restaurant.csv.gz s3://databricks-dev-ifood-bucket/\n",
    "#aws s3 cp s3://ifood-data-architect-test-source/consumer.csv.gz s3://databricks-dev-ifood-bucket/\n"
   ]
  },
  {
   "cell_type": "code",
   "execution_count": 3,
   "metadata": {},
   "outputs": [
    {
     "data": {
      "text/html": [
       "<style scoped>\n",
       "  .ansiout {\n",
       "    display: block;\n",
       "    unicode-bidi: embed;\n",
       "    white-space: pre-wrap;\n",
       "    word-wrap: break-word;\n",
       "    word-break: break-all;\n",
       "    font-family: \"Source Code Pro\", \"Menlo\", monospace;;\n",
       "    font-size: 13px;\n",
       "    color: #555;\n",
       "    margin-left: 4px;\n",
       "    line-height: 19px;\n",
       "  }\n",
       "</style>\n",
       "<div class=\"ansiout\"></div>"
      ]
     },
     "metadata": {},
     "output_type": "display_data"
    }
   ],
   "source": [
    "#TODO apagar as accesskey antes de subir\n",
    "sc._jsc.hadoopConfiguration().set(\"fs.s3n.awsAccessKeyId\", 'coloqueAccessKey')\n",
    "sc._jsc.hadoopConfiguration().set(\"fs.s3n.awsSecretAccessKey\", 'coloque SecretKey')\n",
    "\n",
    "consumerPAth = 's3n://databricks-dev-ifood-bucket/consumer.csv.gz'\n",
    "restaurantPath = 's3n://databricks-dev-ifood-bucket/restaurant.csv.gz'\n",
    "orderPath = 's3n://databricks-dev-ifood-bucket/order.json.gz'\n"
   ]
  },
  {
   "cell_type": "code",
   "execution_count": 4,
   "metadata": {},
   "outputs": [
    {
     "data": {
      "text/html": [
       "<style scoped>\n",
       "  .ansiout {\n",
       "    display: block;\n",
       "    unicode-bidi: embed;\n",
       "    white-space: pre-wrap;\n",
       "    word-wrap: break-word;\n",
       "    word-break: break-all;\n",
       "    font-family: \"Source Code Pro\", \"Menlo\", monospace;;\n",
       "    font-size: 13px;\n",
       "    color: #555;\n",
       "    margin-left: 4px;\n",
       "    line-height: 19px;\n",
       "  }\n",
       "</style>\n",
       "<div class=\"ansiout\"></div>"
      ]
     },
     "metadata": {},
     "output_type": "display_data"
    }
   ],
   "source": [
    "consumer = sc.textFile(consumerPAth)"
   ]
  },
  {
   "cell_type": "code",
   "execution_count": 5,
   "metadata": {},
   "outputs": [
    {
     "data": {
      "text/html": [
       "<style scoped>\n",
       "  .ansiout {\n",
       "    display: block;\n",
       "    unicode-bidi: embed;\n",
       "    white-space: pre-wrap;\n",
       "    word-wrap: break-word;\n",
       "    word-break: break-all;\n",
       "    font-family: \"Source Code Pro\", \"Menlo\", monospace;;\n",
       "    font-size: 13px;\n",
       "    color: #555;\n",
       "    margin-left: 4px;\n",
       "    line-height: 19px;\n",
       "  }\n",
       "</style>\n",
       "<div class=\"ansiout\">Out[5]: [&#39;customer_id,language,created_at,active,customer_name,customer_phone_area,customer_phone_number&#39;,\n",
       " &#39;00039466-560f-4e57-85a2-d4753cd901be,pt-br,2018-04-05T14:49:18.165Z,true,NUNO,46,816135924&#39;]</div>"
      ]
     },
     "metadata": {},
     "output_type": "display_data"
    }
   ],
   "source": [
    "consumer.take(2)"
   ]
  },
  {
   "cell_type": "code",
   "execution_count": 6,
   "metadata": {},
   "outputs": [
    {
     "data": {
      "text/html": [
       "<style scoped>\n",
       "  .ansiout {\n",
       "    display: block;\n",
       "    unicode-bidi: embed;\n",
       "    white-space: pre-wrap;\n",
       "    word-wrap: break-word;\n",
       "    word-break: break-all;\n",
       "    font-family: \"Source Code Pro\", \"Menlo\", monospace;;\n",
       "    font-size: 13px;\n",
       "    color: #555;\n",
       "    margin-left: 4px;\n",
       "    line-height: 19px;\n",
       "  }\n",
       "</style>\n",
       "<div class=\"ansiout\"></div>"
      ]
     },
     "metadata": {},
     "output_type": "display_data"
    }
   ],
   "source": [
    "#remover o header\n",
    "consumerNoHeader = consumer.filter(lambda x: 'customer_phone' not in x)"
   ]
  },
  {
   "cell_type": "code",
   "execution_count": 7,
   "metadata": {},
   "outputs": [
    {
     "data": {
      "text/html": [
       "<style scoped>\n",
       "  .ansiout {\n",
       "    display: block;\n",
       "    unicode-bidi: embed;\n",
       "    white-space: pre-wrap;\n",
       "    word-wrap: break-word;\n",
       "    word-break: break-all;\n",
       "    font-family: \"Source Code Pro\", \"Menlo\", monospace;;\n",
       "    font-size: 13px;\n",
       "    color: #555;\n",
       "    margin-left: 4px;\n",
       "    line-height: 19px;\n",
       "  }\n",
       "</style>\n",
       "<div class=\"ansiout\">Out[7]: [&#39;00039466-560f-4e57-85a2-d4753cd901be,pt-br,2018-04-05T14:49:18.165Z,true,NUNO,46,816135924&#39;,\n",
       " &#39;001a1267-31a3-4f5b-a028-d7e323864b08,pt-br,2018-01-14T21:40:02.141Z,true,ADRIELLY,59,231330577&#39;,\n",
       " &#39;003ae1d5-67b8-4a04-b055-0e4e9622771a,pt-br,2018-01-07T03:47:15.554Z,true,PAULA,62,347597883&#39;,\n",
       " &#39;004629bf-c3fc-42f5-a133-fd34d2bd17fa,pt-br,2018-01-10T22:17:08.160Z,true,HELTON,13,719366842&#39;,\n",
       " &#39;00467336-6561-4406-b6f2-987b06e77401,pt-br,2018-04-06T00:16:20.935Z,true,WENDER,76,543232158&#39;]</div>"
      ]
     },
     "metadata": {},
     "output_type": "display_data"
    }
   ],
   "source": [
    "consumerNoHeader.take(5)"
   ]
  },
  {
   "cell_type": "code",
   "execution_count": 8,
   "metadata": {},
   "outputs": [
    {
     "data": {
      "text/html": [
       "<style scoped>\n",
       "  .ansiout {\n",
       "    display: block;\n",
       "    unicode-bidi: embed;\n",
       "    white-space: pre-wrap;\n",
       "    word-wrap: break-word;\n",
       "    word-break: break-all;\n",
       "    font-family: \"Source Code Pro\", \"Menlo\", monospace;;\n",
       "    font-size: 13px;\n",
       "    color: #555;\n",
       "    margin-left: 4px;\n",
       "    line-height: 19px;\n",
       "  }\n",
       "</style>\n",
       "<div class=\"ansiout\"></div>"
      ]
     },
     "metadata": {},
     "output_type": "display_data"
    }
   ],
   "source": [
    "#criar uma namedtuple para o consumer para criar a estrutura do dado\n",
    "fieldsConsumer = ('customer_id','language','created_at','active','customer_name','customer_phone_area','customer_phone_number')\n",
    "\n",
    "Consumer = namedtuple('Consumer', fieldsConsumer)\n",
    "\n",
    "def parseConsumer(row):\n",
    "  row[2] = dateutil.parser.parse(row[2]).strftime('%Y-%m-%d %H:%M:%S')\n",
    "  row[3] = int(row[3] == 'true')\n",
    "  row[5] = int(row[5])\n",
    "  row[6] = int(row[6])\n",
    "  return Consumer(*row[:7])\n"
   ]
  },
  {
   "cell_type": "code",
   "execution_count": 9,
   "metadata": {},
   "outputs": [
    {
     "data": {
      "text/html": [
       "<style scoped>\n",
       "  .ansiout {\n",
       "    display: block;\n",
       "    unicode-bidi: embed;\n",
       "    white-space: pre-wrap;\n",
       "    word-wrap: break-word;\n",
       "    word-break: break-all;\n",
       "    font-family: \"Source Code Pro\", \"Menlo\", monospace;;\n",
       "    font-size: 13px;\n",
       "    color: #555;\n",
       "    margin-left: 4px;\n",
       "    line-height: 19px;\n",
       "  }\n",
       "</style>\n",
       "<div class=\"ansiout\"></div>"
      ]
     },
     "metadata": {},
     "output_type": "display_data"
    }
   ],
   "source": [
    "#splitar o rdd por , e mapear pela estrutura\n",
    "consumerParsed = consumerNoHeader.map(lambda x: x.split(',')).map(parseConsumer)"
   ]
  },
  {
   "cell_type": "code",
   "execution_count": 10,
   "metadata": {},
   "outputs": [
    {
     "data": {
      "text/html": [
       "<style scoped>\n",
       "  .ansiout {\n",
       "    display: block;\n",
       "    unicode-bidi: embed;\n",
       "    white-space: pre-wrap;\n",
       "    word-wrap: break-word;\n",
       "    word-break: break-all;\n",
       "    font-family: \"Source Code Pro\", \"Menlo\", monospace;;\n",
       "    font-size: 13px;\n",
       "    color: #555;\n",
       "    margin-left: 4px;\n",
       "    line-height: 19px;\n",
       "  }\n",
       "</style>\n",
       "<div class=\"ansiout\">Out[10]: [Consumer(customer_id=&#39;00039466-560f-4e57-85a2-d4753cd901be&#39;, language=&#39;pt-br&#39;, created_at=&#39;2018-04-05 14:49:18&#39;, active=1, customer_name=&#39;NUNO&#39;, customer_phone_area=46, customer_phone_number=816135924),\n",
       " Consumer(customer_id=&#39;001a1267-31a3-4f5b-a028-d7e323864b08&#39;, language=&#39;pt-br&#39;, created_at=&#39;2018-01-14 21:40:02&#39;, active=1, customer_name=&#39;ADRIELLY&#39;, customer_phone_area=59, customer_phone_number=231330577),\n",
       " Consumer(customer_id=&#39;003ae1d5-67b8-4a04-b055-0e4e9622771a&#39;, language=&#39;pt-br&#39;, created_at=&#39;2018-01-07 03:47:15&#39;, active=1, customer_name=&#39;PAULA&#39;, customer_phone_area=62, customer_phone_number=347597883),\n",
       " Consumer(customer_id=&#39;004629bf-c3fc-42f5-a133-fd34d2bd17fa&#39;, language=&#39;pt-br&#39;, created_at=&#39;2018-01-10 22:17:08&#39;, active=1, customer_name=&#39;HELTON&#39;, customer_phone_area=13, customer_phone_number=719366842),\n",
       " Consumer(customer_id=&#39;00467336-6561-4406-b6f2-987b06e77401&#39;, language=&#39;pt-br&#39;, created_at=&#39;2018-04-06 00:16:20&#39;, active=1, customer_name=&#39;WENDER&#39;, customer_phone_area=76, customer_phone_number=543232158)]</div>"
      ]
     },
     "metadata": {},
     "output_type": "display_data"
    }
   ],
   "source": [
    "consumerParsed.take(5)"
   ]
  },
  {
   "cell_type": "code",
   "execution_count": 11,
   "metadata": {},
   "outputs": [
    {
     "data": {
      "text/html": [
       "<style scoped>\n",
       "  .ansiout {\n",
       "    display: block;\n",
       "    unicode-bidi: embed;\n",
       "    white-space: pre-wrap;\n",
       "    word-wrap: break-word;\n",
       "    word-break: break-all;\n",
       "    font-family: \"Source Code Pro\", \"Menlo\", monospace;;\n",
       "    font-size: 13px;\n",
       "    color: #555;\n",
       "    margin-left: 4px;\n",
       "    line-height: 19px;\n",
       "  }\n",
       "</style>\n",
       "<div class=\"ansiout\">+--------------------+--------+-------------------+------+-------------+-------------------+---------------------+\n",
       "         customer_id|language|         created_at|active|customer_name|customer_phone_area|customer_phone_number|\n",
       "+--------------------+--------+-------------------+------+-------------+-------------------+---------------------+\n",
       "00039466-560f-4e5...|   pt-br|2018-04-05 14:49:18|     1|         NUNO|                 46|            816135924|\n",
       "001a1267-31a3-4f5...|   pt-br|2018-01-14 21:40:02|     1|     ADRIELLY|                 59|            231330577|\n",
       "003ae1d5-67b8-4a0...|   pt-br|2018-01-07 03:47:15|     1|        PAULA|                 62|            347597883|\n",
       "004629bf-c3fc-42f...|   pt-br|2018-01-10 22:17:08|     1|       HELTON|                 13|            719366842|\n",
       "00467336-6561-440...|   pt-br|2018-04-06 00:16:20|     1|       WENDER|                 76|            543232158|\n",
       "+--------------------+--------+-------------------+------+-------------+-------------------+---------------------+\n",
       "only showing top 5 rows\n",
       "\n",
       "</div>"
      ]
     },
     "metadata": {},
     "output_type": "display_data"
    }
   ],
   "source": [
    "consumerDF = consumerParsed.toDF()\n",
    "consumerDF.show(5)"
   ]
  },
  {
   "cell_type": "code",
   "execution_count": 12,
   "metadata": {},
   "outputs": [
    {
     "data": {
      "text/html": [
       "<style scoped>\n",
       "  .ansiout {\n",
       "    display: block;\n",
       "    unicode-bidi: embed;\n",
       "    white-space: pre-wrap;\n",
       "    word-wrap: break-word;\n",
       "    word-break: break-all;\n",
       "    font-family: \"Source Code Pro\", \"Menlo\", monospace;;\n",
       "    font-size: 13px;\n",
       "    color: #555;\n",
       "    margin-left: 4px;\n",
       "    line-height: 19px;\n",
       "  }\n",
       "</style>\n",
       "<div class=\"ansiout\">root\n",
       "-- customer_id: string (nullable = true)\n",
       "-- language: string (nullable = true)\n",
       "-- created_at: string (nullable = true)\n",
       "-- active: long (nullable = true)\n",
       "-- customer_name: string (nullable = true)\n",
       "-- customer_phone_area: long (nullable = true)\n",
       "-- customer_phone_number: long (nullable = true)\n",
       "\n",
       "</div>"
      ]
     },
     "metadata": {},
     "output_type": "display_data"
    }
   ],
   "source": [
    "#cria tabela temporaria para poder ser acessado via linha de comando sql\n",
    "consumerDF.createOrReplaceTempView('consumer')\n",
    "consumerDF.printSchema()"
   ]
  },
  {
   "cell_type": "code",
   "execution_count": 13,
   "metadata": {},
   "outputs": [
    {
     "data": {
      "text/html": [
       "<style scoped>\n",
       "  .table-result-container {\n",
       "    max-height: 300px;\n",
       "    overflow: auto;\n",
       "  }\n",
       "  table, th, td {\n",
       "    border: 1px solid black;\n",
       "    border-collapse: collapse;\n",
       "  }\n",
       "  th, td {\n",
       "    padding: 5px;\n",
       "  }\n",
       "  th {\n",
       "    text-align: left;\n",
       "  }\n",
       "</style><div class='table-result-container'><table class='table-result'><thead style='background-color: white'><tr><th>customer_id</th><th>language</th><th>created_at</th><th>active</th><th>customer_name</th><th>customer_phone_area</th><th>customer_phone_number</th></tr></thead><tbody><tr><td>00039466-560f-4e57-85a2-d4753cd901be</td><td>pt-br</td><td>2018-04-05 14:49:18</td><td>1</td><td>NUNO</td><td>46</td><td>816135924</td></tr><tr><td>001a1267-31a3-4f5b-a028-d7e323864b08</td><td>pt-br</td><td>2018-01-14 21:40:02</td><td>1</td><td>ADRIELLY</td><td>59</td><td>231330577</td></tr><tr><td>003ae1d5-67b8-4a04-b055-0e4e9622771a</td><td>pt-br</td><td>2018-01-07 03:47:15</td><td>1</td><td>PAULA</td><td>62</td><td>347597883</td></tr><tr><td>004629bf-c3fc-42f5-a133-fd34d2bd17fa</td><td>pt-br</td><td>2018-01-10 22:17:08</td><td>1</td><td>HELTON</td><td>13</td><td>719366842</td></tr><tr><td>00467336-6561-4406-b6f2-987b06e77401</td><td>pt-br</td><td>2018-04-06 00:16:20</td><td>1</td><td>WENDER</td><td>76</td><td>543232158</td></tr></tbody></table></div>"
      ]
     },
     "metadata": {},
     "output_type": "display_data"
    }
   ],
   "source": [
    "%sql select * from consumer limit 5;"
   ]
  },
  {
   "cell_type": "code",
   "execution_count": 14,
   "metadata": {},
   "outputs": [
    {
     "data": {
      "text/html": [
       "<style scoped>\n",
       "  .ansiout {\n",
       "    display: block;\n",
       "    unicode-bidi: embed;\n",
       "    white-space: pre-wrap;\n",
       "    word-wrap: break-word;\n",
       "    word-break: break-all;\n",
       "    font-family: \"Source Code Pro\", \"Menlo\", monospace;;\n",
       "    font-size: 13px;\n",
       "    color: #555;\n",
       "    margin-left: 4px;\n",
       "    line-height: 19px;\n",
       "  }\n",
       "</style>\n",
       "<div class=\"ansiout\"></div>"
      ]
     },
     "metadata": {},
     "output_type": "display_data"
    }
   ],
   "source": [
    "restaurant = sc.textFile(restaurantPath)"
   ]
  },
  {
   "cell_type": "code",
   "execution_count": 15,
   "metadata": {},
   "outputs": [
    {
     "data": {
      "text/html": [
       "<style scoped>\n",
       "  .ansiout {\n",
       "    display: block;\n",
       "    unicode-bidi: embed;\n",
       "    white-space: pre-wrap;\n",
       "    word-wrap: break-word;\n",
       "    word-break: break-all;\n",
       "    font-family: \"Source Code Pro\", \"Menlo\", monospace;;\n",
       "    font-size: 13px;\n",
       "    color: #555;\n",
       "    margin-left: 4px;\n",
       "    line-height: 19px;\n",
       "  }\n",
       "</style>\n",
       "<div class=\"ansiout\">Out[14]: [&#39;id,created_at,enabled,price_range,average_ticket,takeout_time,delivery_time,minimum_order_value,merchant_zip_code,merchant_city,merchant_state,merchant_country&#39;,\n",
       " &#39;02c94103-61f3-4906-a4a9-55611db9f28c,2017-01-23T12:52:30.910Z,false,3,60.0,0,50,30.0,14025,RIBEIRAO PRETO,SP,BR&#39;,\n",
       " &#39;15e7f5fd-090d-47b9-9f14-b6f7fce3c95d,2017-01-20T13:14:48.286Z,true,3,60.0,0,0,30.0,50180,SAO PAULO,SP,BR&#39;,\n",
       " &#39;33ca5d3d-b99f-404d-84d9-8df8f38a2261,2017-01-23T12:46:33.457Z,true,5,100.0,0,45,10.0,23090,RIO DE JANEIRO,RJ,BR&#39;,\n",
       " &#39;4927035f-a343-4a65-a9be-945818e2efff,2017-01-20T13:15:04.806Z,true,3,80.0,0,0,18.9,40255,SALVADOR,BA,BR&#39;]</div>"
      ]
     },
     "metadata": {},
     "output_type": "display_data"
    }
   ],
   "source": [
    "restaurant.take(5)"
   ]
  },
  {
   "cell_type": "code",
   "execution_count": 16,
   "metadata": {},
   "outputs": [
    {
     "data": {
      "text/html": [
       "<style scoped>\n",
       "  .ansiout {\n",
       "    display: block;\n",
       "    unicode-bidi: embed;\n",
       "    white-space: pre-wrap;\n",
       "    word-wrap: break-word;\n",
       "    word-break: break-all;\n",
       "    font-family: \"Source Code Pro\", \"Menlo\", monospace;;\n",
       "    font-size: 13px;\n",
       "    color: #555;\n",
       "    margin-left: 4px;\n",
       "    line-height: 19px;\n",
       "  }\n",
       "</style>\n",
       "<div class=\"ansiout\"></div>"
      ]
     },
     "metadata": {},
     "output_type": "display_data"
    }
   ],
   "source": [
    "#remover o header\n",
    "restaurantNoHeader = restaurant.filter(lambda x:'takeout_time' not in x)"
   ]
  },
  {
   "cell_type": "code",
   "execution_count": 17,
   "metadata": {},
   "outputs": [
    {
     "data": {
      "text/html": [
       "<style scoped>\n",
       "  .ansiout {\n",
       "    display: block;\n",
       "    unicode-bidi: embed;\n",
       "    white-space: pre-wrap;\n",
       "    word-wrap: break-word;\n",
       "    word-break: break-all;\n",
       "    font-family: \"Source Code Pro\", \"Menlo\", monospace;;\n",
       "    font-size: 13px;\n",
       "    color: #555;\n",
       "    margin-left: 4px;\n",
       "    line-height: 19px;\n",
       "  }\n",
       "</style>\n",
       "<div class=\"ansiout\">Out[16]: [&#39;02c94103-61f3-4906-a4a9-55611db9f28c,2017-01-23T12:52:30.910Z,false,3,60.0,0,50,30.0,14025,RIBEIRAO PRETO,SP,BR&#39;,\n",
       " &#39;15e7f5fd-090d-47b9-9f14-b6f7fce3c95d,2017-01-20T13:14:48.286Z,true,3,60.0,0,0,30.0,50180,SAO PAULO,SP,BR&#39;,\n",
       " &#39;33ca5d3d-b99f-404d-84d9-8df8f38a2261,2017-01-23T12:46:33.457Z,true,5,100.0,0,45,10.0,23090,RIO DE JANEIRO,RJ,BR&#39;,\n",
       " &#39;4927035f-a343-4a65-a9be-945818e2efff,2017-01-20T13:15:04.806Z,true,3,80.0,0,0,18.9,40255,SALVADOR,BA,BR&#39;,\n",
       " &#39;52feaad8-4961-4afc-8d60-3f29ffd0a7a7,2017-01-20T13:14:27.701Z,true,3,60.0,0,0,25.0,64600,BARUERI,SP,BR&#39;]</div>"
      ]
     },
     "metadata": {},
     "output_type": "display_data"
    }
   ],
   "source": [
    "restaurantNoHeader.take(5)"
   ]
  },
  {
   "cell_type": "code",
   "execution_count": 18,
   "metadata": {},
   "outputs": [
    {
     "data": {
      "text/html": [
       "<style scoped>\n",
       "  .ansiout {\n",
       "    display: block;\n",
       "    unicode-bidi: embed;\n",
       "    white-space: pre-wrap;\n",
       "    word-wrap: break-word;\n",
       "    word-break: break-all;\n",
       "    font-family: \"Source Code Pro\", \"Menlo\", monospace;;\n",
       "    font-size: 13px;\n",
       "    color: #555;\n",
       "    margin-left: 4px;\n",
       "    line-height: 19px;\n",
       "  }\n",
       "</style>\n",
       "<div class=\"ansiout\"></div>"
      ]
     },
     "metadata": {},
     "output_type": "display_data"
    }
   ],
   "source": [
    "#mesma logica para o restaurante\n",
    "fieldsRestaurant = ('id','created_at','enabled','price_range','average_ticket','takeout_time','delivery_time','minimum_order_value','merchant_zip_code','merchant_city','merchant_state','merchant_country')\n",
    "\n",
    "Restaurant = namedtuple('Restaurant', fieldsRestaurant)\n",
    "\n",
    "def parseRestaurant(row):\n",
    "  row[1] = dateutil.parser.parse(row[1]).strftime('%Y-%m-%d %H:%M:%S')\n",
    "  row[2] = int(row[2] == 'true')\n",
    "  row[3] = int(row[3])\n",
    "  row[4] = float(row[4])\n",
    "  row[5] = int(row[5])\n",
    "  row[6] = int(row[6])\n",
    "  row[7] = float(row[7])\n",
    "  row[8] = int(row[8])\n",
    "  return Restaurant(*row[:12])"
   ]
  },
  {
   "cell_type": "code",
   "execution_count": 19,
   "metadata": {},
   "outputs": [
    {
     "data": {
      "text/html": [
       "<style scoped>\n",
       "  .ansiout {\n",
       "    display: block;\n",
       "    unicode-bidi: embed;\n",
       "    white-space: pre-wrap;\n",
       "    word-wrap: break-word;\n",
       "    word-break: break-all;\n",
       "    font-family: \"Source Code Pro\", \"Menlo\", monospace;;\n",
       "    font-size: 13px;\n",
       "    color: #555;\n",
       "    margin-left: 4px;\n",
       "    line-height: 19px;\n",
       "  }\n",
       "</style>\n",
       "<div class=\"ansiout\"></div>"
      ]
     },
     "metadata": {},
     "output_type": "display_data"
    }
   ],
   "source": [
    "restaurantParsed = restaurantNoHeader.map(lambda x: x.split(',')).map(parseRestaurant)"
   ]
  },
  {
   "cell_type": "code",
   "execution_count": 20,
   "metadata": {},
   "outputs": [
    {
     "data": {
      "text/html": [
       "<style scoped>\n",
       "  .ansiout {\n",
       "    display: block;\n",
       "    unicode-bidi: embed;\n",
       "    white-space: pre-wrap;\n",
       "    word-wrap: break-word;\n",
       "    word-break: break-all;\n",
       "    font-family: \"Source Code Pro\", \"Menlo\", monospace;;\n",
       "    font-size: 13px;\n",
       "    color: #555;\n",
       "    margin-left: 4px;\n",
       "    line-height: 19px;\n",
       "  }\n",
       "</style>\n",
       "<div class=\"ansiout\">Out[19]: [Restaurant(id=&#39;02c94103-61f3-4906-a4a9-55611db9f28c&#39;, created_at=&#39;2017-01-23 12:52:30&#39;, enabled=0, price_range=3, average_ticket=60.0, takeout_time=0, delivery_time=50, minimum_order_value=30.0, merchant_zip_code=14025, merchant_city=&#39;RIBEIRAO PRETO&#39;, merchant_state=&#39;SP&#39;, merchant_country=&#39;BR&#39;),\n",
       " Restaurant(id=&#39;15e7f5fd-090d-47b9-9f14-b6f7fce3c95d&#39;, created_at=&#39;2017-01-20 13:14:48&#39;, enabled=1, price_range=3, average_ticket=60.0, takeout_time=0, delivery_time=0, minimum_order_value=30.0, merchant_zip_code=50180, merchant_city=&#39;SAO PAULO&#39;, merchant_state=&#39;SP&#39;, merchant_country=&#39;BR&#39;),\n",
       " Restaurant(id=&#39;33ca5d3d-b99f-404d-84d9-8df8f38a2261&#39;, created_at=&#39;2017-01-23 12:46:33&#39;, enabled=1, price_range=5, average_ticket=100.0, takeout_time=0, delivery_time=45, minimum_order_value=10.0, merchant_zip_code=23090, merchant_city=&#39;RIO DE JANEIRO&#39;, merchant_state=&#39;RJ&#39;, merchant_country=&#39;BR&#39;),\n",
       " Restaurant(id=&#39;4927035f-a343-4a65-a9be-945818e2efff&#39;, created_at=&#39;2017-01-20 13:15:04&#39;, enabled=1, price_range=3, average_ticket=80.0, takeout_time=0, delivery_time=0, minimum_order_value=18.9, merchant_zip_code=40255, merchant_city=&#39;SALVADOR&#39;, merchant_state=&#39;BA&#39;, merchant_country=&#39;BR&#39;),\n",
       " Restaurant(id=&#39;52feaad8-4961-4afc-8d60-3f29ffd0a7a7&#39;, created_at=&#39;2017-01-20 13:14:27&#39;, enabled=1, price_range=3, average_ticket=60.0, takeout_time=0, delivery_time=0, minimum_order_value=25.0, merchant_zip_code=64600, merchant_city=&#39;BARUERI&#39;, merchant_state=&#39;SP&#39;, merchant_country=&#39;BR&#39;)]</div>"
      ]
     },
     "metadata": {},
     "output_type": "display_data"
    }
   ],
   "source": [
    "restaurantParsed.take(5)"
   ]
  },
  {
   "cell_type": "code",
   "execution_count": 21,
   "metadata": {},
   "outputs": [
    {
     "data": {
      "text/html": [
       "<style scoped>\n",
       "  .ansiout {\n",
       "    display: block;\n",
       "    unicode-bidi: embed;\n",
       "    white-space: pre-wrap;\n",
       "    word-wrap: break-word;\n",
       "    word-break: break-all;\n",
       "    font-family: \"Source Code Pro\", \"Menlo\", monospace;;\n",
       "    font-size: 13px;\n",
       "    color: #555;\n",
       "    margin-left: 4px;\n",
       "    line-height: 19px;\n",
       "  }\n",
       "</style>\n",
       "<div class=\"ansiout\">+--------------------+-------------------+-------+-----------+--------------+------------+-------------+-------------------+-----------------+--------------+--------------+----------------+\n",
       "                  id|         created_at|enabled|price_range|average_ticket|takeout_time|delivery_time|minimum_order_value|merchant_zip_code| merchant_city|merchant_state|merchant_country|\n",
       "+--------------------+-------------------+-------+-----------+--------------+------------+-------------+-------------------+-----------------+--------------+--------------+----------------+\n",
       "02c94103-61f3-490...|2017-01-23 12:52:30|      0|          3|          60.0|           0|           50|               30.0|            14025|RIBEIRAO PRETO|            SP|              BR|\n",
       "15e7f5fd-090d-47b...|2017-01-20 13:14:48|      1|          3|          60.0|           0|            0|               30.0|            50180|     SAO PAULO|            SP|              BR|\n",
       "33ca5d3d-b99f-404...|2017-01-23 12:46:33|      1|          5|         100.0|           0|           45|               10.0|            23090|RIO DE JANEIRO|            RJ|              BR|\n",
       "4927035f-a343-4a6...|2017-01-20 13:15:04|      1|          3|          80.0|           0|            0|               18.9|            40255|      SALVADOR|            BA|              BR|\n",
       "52feaad8-4961-4af...|2017-01-20 13:14:27|      1|          3|          60.0|           0|            0|               25.0|            64600|       BARUERI|            SP|              BR|\n",
       "+--------------------+-------------------+-------+-----------+--------------+------------+-------------+-------------------+-----------------+--------------+--------------+----------------+\n",
       "only showing top 5 rows\n",
       "\n",
       "</div>"
      ]
     },
     "metadata": {},
     "output_type": "display_data"
    }
   ],
   "source": [
    "restaurantDF = restaurantParsed.toDF()\n",
    "restaurantDF.show(5)"
   ]
  },
  {
   "cell_type": "code",
   "execution_count": 22,
   "metadata": {},
   "outputs": [
    {
     "data": {
      "text/html": [
       "<style scoped>\n",
       "  .ansiout {\n",
       "    display: block;\n",
       "    unicode-bidi: embed;\n",
       "    white-space: pre-wrap;\n",
       "    word-wrap: break-word;\n",
       "    word-break: break-all;\n",
       "    font-family: \"Source Code Pro\", \"Menlo\", monospace;;\n",
       "    font-size: 13px;\n",
       "    color: #555;\n",
       "    margin-left: 4px;\n",
       "    line-height: 19px;\n",
       "  }\n",
       "</style>\n",
       "<div class=\"ansiout\">root\n",
       "-- id: string (nullable = true)\n",
       "-- created_at: string (nullable = true)\n",
       "-- enabled: long (nullable = true)\n",
       "-- price_range: long (nullable = true)\n",
       "-- average_ticket: double (nullable = true)\n",
       "-- takeout_time: long (nullable = true)\n",
       "-- delivery_time: long (nullable = true)\n",
       "-- minimum_order_value: double (nullable = true)\n",
       "-- merchant_zip_code: long (nullable = true)\n",
       "-- merchant_city: string (nullable = true)\n",
       "-- merchant_state: string (nullable = true)\n",
       "-- merchant_country: string (nullable = true)\n",
       "\n",
       "</div>"
      ]
     },
     "metadata": {},
     "output_type": "display_data"
    }
   ],
   "source": [
    "restaurantDF.createOrReplaceTempView('restaurant')\n",
    "restaurantDF.printSchema()"
   ]
  },
  {
   "cell_type": "code",
   "execution_count": 23,
   "metadata": {},
   "outputs": [
    {
     "data": {
      "text/html": [
       "<style scoped>\n",
       "  .table-result-container {\n",
       "    max-height: 300px;\n",
       "    overflow: auto;\n",
       "  }\n",
       "  table, th, td {\n",
       "    border: 1px solid black;\n",
       "    border-collapse: collapse;\n",
       "  }\n",
       "  th, td {\n",
       "    padding: 5px;\n",
       "  }\n",
       "  th {\n",
       "    text-align: left;\n",
       "  }\n",
       "</style><div class='table-result-container'><table class='table-result'><thead style='background-color: white'><tr><th>id</th><th>created_at</th><th>enabled</th><th>price_range</th><th>average_ticket</th><th>takeout_time</th><th>delivery_time</th><th>minimum_order_value</th><th>merchant_zip_code</th><th>merchant_city</th><th>merchant_state</th><th>merchant_country</th></tr></thead><tbody><tr><td>02c94103-61f3-4906-a4a9-55611db9f28c</td><td>2017-01-23 12:52:30</td><td>0</td><td>3</td><td>60.0</td><td>0</td><td>50</td><td>30.0</td><td>14025</td><td>RIBEIRAO PRETO</td><td>SP</td><td>BR</td></tr><tr><td>15e7f5fd-090d-47b9-9f14-b6f7fce3c95d</td><td>2017-01-20 13:14:48</td><td>1</td><td>3</td><td>60.0</td><td>0</td><td>0</td><td>30.0</td><td>50180</td><td>SAO PAULO</td><td>SP</td><td>BR</td></tr><tr><td>33ca5d3d-b99f-404d-84d9-8df8f38a2261</td><td>2017-01-23 12:46:33</td><td>1</td><td>5</td><td>100.0</td><td>0</td><td>45</td><td>10.0</td><td>23090</td><td>RIO DE JANEIRO</td><td>RJ</td><td>BR</td></tr><tr><td>4927035f-a343-4a65-a9be-945818e2efff</td><td>2017-01-20 13:15:04</td><td>1</td><td>3</td><td>80.0</td><td>0</td><td>0</td><td>18.9</td><td>40255</td><td>SALVADOR</td><td>BA</td><td>BR</td></tr><tr><td>52feaad8-4961-4afc-8d60-3f29ffd0a7a7</td><td>2017-01-20 13:14:27</td><td>1</td><td>3</td><td>60.0</td><td>0</td><td>0</td><td>25.0</td><td>64600</td><td>BARUERI</td><td>SP</td><td>BR</td></tr></tbody></table></div>"
      ]
     },
     "metadata": {},
     "output_type": "display_data"
    }
   ],
   "source": [
    "%sql select * from restaurant limit 5;"
   ]
  },
  {
   "cell_type": "code",
   "execution_count": 24,
   "metadata": {},
   "outputs": [
    {
     "data": {
      "text/html": [
       "<style scoped>\n",
       "  .ansiout {\n",
       "    display: block;\n",
       "    unicode-bidi: embed;\n",
       "    white-space: pre-wrap;\n",
       "    word-wrap: break-word;\n",
       "    word-break: break-all;\n",
       "    font-family: \"Source Code Pro\", \"Menlo\", monospace;;\n",
       "    font-size: 13px;\n",
       "    color: #555;\n",
       "    margin-left: 4px;\n",
       "    line-height: 19px;\n",
       "  }\n",
       "</style>\n",
       "<div class=\"ansiout\"></div>"
      ]
     },
     "metadata": {},
     "output_type": "display_data"
    }
   ],
   "source": [
    "order = sqlContext.read.json(orderPath)"
   ]
  },
  {
   "cell_type": "code",
   "execution_count": 25,
   "metadata": {},
   "outputs": [
    {
     "data": {
      "text/html": [
       "<style scoped>\n",
       "  .ansiout {\n",
       "    display: block;\n",
       "    unicode-bidi: embed;\n",
       "    white-space: pre-wrap;\n",
       "    word-wrap: break-word;\n",
       "    word-break: break-all;\n",
       "    font-family: \"Source Code Pro\", \"Menlo\", monospace;;\n",
       "    font-size: 13px;\n",
       "    color: #555;\n",
       "    margin-left: 4px;\n",
       "    line-height: 19px;\n",
       "  }\n",
       "</style>\n",
       "<div class=\"ansiout\">Out[23]: [Row(cpf=&#39;80532101763&#39;, customer_id=&#39;977b9a89-825f-464b-8ef6-0f453d7334c1&#39;, customer_name=&#39;GUSTAVO&#39;, delivery_address_city=&#39;FRANCA&#39;, delivery_address_country=&#39;BR&#39;, delivery_address_district=&#39;JARDIM ESPRAIADO&#39;, delivery_address_external_id=&#39;6736655&#39;, delivery_address_latitude=&#39;-47.39&#39;, delivery_address_longitude=&#39;-20.55&#39;, delivery_address_state=&#39;SP&#39;, delivery_address_zip_code=&#39;14403&#39;, items=&#39;[{&#34;name&#34;: &#34;Parmegiana de Filé de Frango (2 pessoas)&#34;, &#34;addition&#34;: {&#34;value&#34;: &#34;0&#34;, &#34;currency&#34;: &#34;BRL&#34;}, &#34;discount&#34;: {&#34;value&#34;: &#34;0&#34;, &#34;currency&#34;: &#34;BRL&#34;}, &#34;quantity&#34;: 1.00, &#34;sequence&#34;: 1, &#34;unitPrice&#34;: {&#34;value&#34;: &#34;2800&#34;, &#34;currency&#34;: &#34;BRL&#34;}, &#34;externalId&#34;: &#34;0bcd6764fd5e466d9c04b18ac0eb69e6&#34;, &#34;totalValue&#34;: {&#34;value&#34;: &#34;2800&#34;, &#34;currency&#34;: &#34;BRL&#34;}, &#34;customerNote&#34;: null, &#34;garnishItems&#34;: [{&#34;name&#34;: &#34;COM Arroz branco&#34;, &#34;addition&#34;: {&#34;value&#34;: &#34;0&#34;, &#34;currency&#34;: &#34;BRL&#34;}, &#34;discount&#34;: {&#34;value&#34;: &#34;0&#34;, &#34;currency&#34;: &#34;BRL&#34;}, &#34;quantity&#34;: 1.00, &#34;sequence&#34;: 2, &#34;unitPrice&#34;: {&#34;value&#34;: &#34;0&#34;, &#34;currency&#34;: &#34;BRL&#34;}, &#34;categoryId&#34;: &#34;13HDH&#34;, &#34;externalId&#34;: &#34;384bd2b4eb7d454d8e0274e7d590ab4f&#34;, &#34;totalValue&#34;: {&#34;value&#34;: &#34;0&#34;, &#34;currency&#34;: &#34;BRL&#34;}, &#34;categoryName&#34;: &#34;PERSONALIZAR&#34;, &#34;integrationId&#34;: null}], &#34;integrationId&#34;: &#34;PMFR&#34;, &#34;totalAddition&#34;: {&#34;value&#34;: &#34;0&#34;, &#34;currency&#34;: &#34;BRL&#34;}, &#34;totalDiscount&#34;: {&#34;value&#34;: &#34;0&#34;, &#34;currency&#34;: &#34;BRL&#34;}}, {&#34;name&#34;: &#34;Lasanha Frango (2 pessoas)&#34;, &#34;addition&#34;: {&#34;value&#34;: &#34;0&#34;, &#34;currency&#34;: &#34;BRL&#34;}, &#34;discount&#34;: {&#34;value&#34;: &#34;0&#34;, &#34;currency&#34;: &#34;BRL&#34;}, &#34;quantity&#34;: 1.00, &#34;sequence&#34;: 3, &#34;unitPrice&#34;: {&#34;value&#34;: &#34;1800&#34;, &#34;currency&#34;: &#34;BRL&#34;}, &#34;externalId&#34;: &#34;a361f5eec6a44ac0817892e81bf22e80&#34;, &#34;totalValue&#34;: {&#34;value&#34;: &#34;1800&#34;, &#34;currency&#34;: &#34;BRL&#34;}, &#34;customerNote&#34;: null, &#34;garnishItems&#34;: [], &#34;integrationId&#34;: &#34;LF&#34;, &#34;totalAddition&#34;: {&#34;value&#34;: &#34;0&#34;, &#34;currency&#34;: &#34;BRL&#34;}, &#34;totalDiscount&#34;: {&#34;value&#34;: &#34;0&#34;, &#34;currency&#34;: &#34;BRL&#34;}}]&#39;, merchant_id=&#39;eb4197f9-964c-4f87-8307-709e498aab87&#39;, merchant_latitude=&#39;-47.39&#39;, merchant_longitude=&#39;-20.55&#39;, merchant_timezone=&#39;America/Sao_Paulo&#39;, order_created_at=&#39;2019-01-17T22:50:06.000Z&#39;, order_id=&#39;dd4f8f0a-c2cb-45c6-a002-c3be6b305e5f&#39;, order_scheduled=False, order_scheduled_date=None, order_total_amount=46.0, origin_platform=&#39;ANDROID&#39;),\n",
       " Row(cpf=&#39;43352103961&#39;, customer_id=&#39;e969cc0d-388b-4025-9351-0db0f718d81c&#39;, customer_name=&#39;MICHELLE&#39;, delivery_address_city=&#39;SANTOS&#39;, delivery_address_country=&#39;BR&#39;, delivery_address_district=&#39;CAMPO GRANDE&#39;, delivery_address_external_id=&#39;8759216&#39;, delivery_address_latitude=&#39;-46.34&#39;, delivery_address_longitude=&#39;-23.96&#39;, delivery_address_state=&#39;SP&#39;, delivery_address_zip_code=&#39;11070&#39;, items=&#39;[{&#34;name&#34;: &#34;Filé Mignon à Cubana&#34;, &#34;addition&#34;: {&#34;value&#34;: &#34;0&#34;, &#34;currency&#34;: &#34;BRL&#34;}, &#34;discount&#34;: {&#34;value&#34;: &#34;0&#34;, &#34;currency&#34;: &#34;BRL&#34;}, &#34;quantity&#34;: 1.00, &#34;sequence&#34;: 1, &#34;unitPrice&#34;: {&#34;value&#34;: &#34;0&#34;, &#34;currency&#34;: &#34;BRL&#34;}, &#34;externalId&#34;: &#34;e0e81b2027c241cca5bf60a4768800ec&#34;, &#34;totalValue&#34;: {&#34;value&#34;: &#34;0&#34;, &#34;currency&#34;: &#34;BRL&#34;}, &#34;customerNote&#34;: null, &#34;garnishItems&#34;: [{&#34;name&#34;: &#34;334 - 1/2 porção &#34;, &#34;addition&#34;: {&#34;value&#34;: &#34;0&#34;, &#34;currency&#34;: &#34;BRL&#34;}, &#34;discount&#34;: {&#34;value&#34;: &#34;0&#34;, &#34;currency&#34;: &#34;BRL&#34;}, &#34;quantity&#34;: 1.00, &#34;sequence&#34;: 2, &#34;unitPrice&#34;: {&#34;value&#34;: &#34;7350&#34;, &#34;currency&#34;: &#34;BRL&#34;}, &#34;categoryId&#34;: &#34;1J3T0&#34;, &#34;externalId&#34;: &#34;b869c10747d1417d8968d7e3e1bd7de4&#34;, &#34;totalValue&#34;: {&#34;value&#34;: &#34;7350&#34;, &#34;currency&#34;: &#34;BRL&#34;}, &#34;categoryName&#34;: &#34;escolha sua porção &#34;, &#34;integrationId&#34;: null}], &#34;integrationId&#34;: null, &#34;totalAddition&#34;: {&#34;value&#34;: &#34;0&#34;, &#34;currency&#34;: &#34;BRL&#34;}, &#34;totalDiscount&#34;: {&#34;value&#34;: &#34;0&#34;, &#34;currency&#34;: &#34;BRL&#34;}}, {&#34;name&#34;: &#34;603- Pudim de leite&#34;, &#34;addition&#34;: {&#34;value&#34;: &#34;0&#34;, &#34;currency&#34;: &#34;BRL&#34;}, &#34;discount&#34;: {&#34;value&#34;: &#34;0&#34;, &#34;currency&#34;: &#34;BRL&#34;}, &#34;quantity&#34;: 1.00, &#34;sequence&#34;: 4, &#34;unitPrice&#34;: {&#34;value&#34;: &#34;800&#34;, &#34;currency&#34;: &#34;BRL&#34;}, &#34;externalId&#34;: &#34;4436f76edc164052aaf3c21a6567b570&#34;, &#34;totalValue&#34;: {&#34;value&#34;: &#34;800&#34;, &#34;currency&#34;: &#34;BRL&#34;}, &#34;customerNote&#34;: null, &#34;garnishItems&#34;: [], &#34;integrationId&#34;: null, &#34;totalAddition&#34;: {&#34;value&#34;: &#34;0&#34;, &#34;currency&#34;: &#34;BRL&#34;}, &#34;totalDiscount&#34;: {&#34;value&#34;: &#34;0&#34;, &#34;currency&#34;: &#34;BRL&#34;}}, {&#34;name&#34;: &#34;601-Torta Holandesa&#34;, &#34;addition&#34;: {&#34;value&#34;: &#34;0&#34;, &#34;currency&#34;: &#34;BRL&#34;}, &#34;discount&#34;: {&#34;value&#34;: &#34;0&#34;, &#34;currency&#34;: &#34;BRL&#34;}, &#34;quantity&#34;: 1.00, &#34;sequence&#34;: 5, &#34;unitPrice&#34;: {&#34;value&#34;: &#34;800&#34;, &#34;currency&#34;: &#34;BRL&#34;}, &#34;externalId&#34;: &#34;c0b788e876c54f198307dc142fed7aff&#34;, &#34;totalValue&#34;: {&#34;value&#34;: &#34;800&#34;, &#34;currency&#34;: &#34;BRL&#34;}, &#34;customerNote&#34;: null, &#34;garnishItems&#34;: [], &#34;integrationId&#34;: null, &#34;totalAddition&#34;: {&#34;value&#34;: &#34;0&#34;, &#34;currency&#34;: &#34;BRL&#34;}, &#34;totalDiscount&#34;: {&#34;value&#34;: &#34;0&#34;, &#34;currency&#34;: &#34;BRL&#34;}}, {&#34;name&#34;: &#34;513 - Guarnição Completa II&#34;, &#34;addition&#34;: {&#34;value&#34;: &#34;0&#34;, &#34;currency&#34;: &#34;BRL&#34;}, &#34;discount&#34;: {&#34;value&#34;: &#34;0&#34;, &#34;currency&#34;: &#34;BRL&#34;}, &#34;quantity&#34;: 1.00, &#34;sequence&#34;: 3, &#34;unitPrice&#34;: {&#34;value&#34;: &#34;1500&#34;, &#34;currency&#34;: &#34;BRL&#34;}, &#34;externalId&#34;: &#34;385fb04a358340878b14116df9970e46&#34;, &#34;totalValue&#34;: {&#34;value&#34;: &#34;1500&#34;, &#34;currency&#34;: &#34;BRL&#34;}, &#34;customerNote&#34;: null, &#34;garnishItems&#34;: [], &#34;integrationId&#34;: null, &#34;totalAddition&#34;: {&#34;value&#34;: &#34;0&#34;, &#34;currency&#34;: &#34;BRL&#34;}, &#34;totalDiscount&#34;: {&#34;value&#34;: &#34;0&#34;, &#34;currency&#34;: &#34;BRL&#34;}}]&#39;, merchant_id=&#39;927d46f9-4bb3-48f7-be1d-584deaf18adc&#39;, merchant_latitude=&#39;-46.34&#39;, merchant_longitude=&#39;-23.96&#39;, merchant_timezone=&#39;America/Sao_Paulo&#39;, order_created_at=&#39;2019-01-17T17:51:26.000Z&#39;, order_id=&#39;8dd80f0b-db00-4b88-b7e2-02ca706fc5a5&#39;, order_scheduled=False, order_scheduled_date=None, order_total_amount=104.5, origin_platform=&#39;ANDROID&#39;),\n",
       " Row(cpf=&#39;38650991217&#39;, customer_id=&#39;e08dcc8b-f998-405e-b3f2-7107ea8958cf&#39;, customer_name=&#39;VICTOR&#39;, delivery_address_city=&#39;GUARULHOS&#39;, delivery_address_country=&#39;BR&#39;, delivery_address_district=&#39;JARDIM ROSSI&#39;, delivery_address_external_id=&#39;8765930&#39;, delivery_address_latitude=&#39;-46.53&#39;, delivery_address_longitude=&#39;-23.44&#39;, delivery_address_state=&#39;SP&#39;, delivery_address_zip_code=&#39;71304&#39;, items=&#39;[{&#34;name&#34;: &#34;GRANDE 2 SABORES&#34;, &#34;addition&#34;: {&#34;value&#34;: &#34;0&#34;, &#34;currency&#34;: &#34;BRL&#34;}, &#34;discount&#34;: {&#34;value&#34;: &#34;0&#34;, &#34;currency&#34;: &#34;BRL&#34;}, &#34;quantity&#34;: 1.00, &#34;sequence&#34;: 1, &#34;unitPrice&#34;: {&#34;value&#34;: &#34;0&#34;, &#34;currency&#34;: &#34;BRL&#34;}, &#34;externalId&#34;: &#34;87a24efdd88c4b7b8bf1132cabfd4195&#34;, &#34;totalValue&#34;: {&#34;value&#34;: &#34;0&#34;, &#34;currency&#34;: &#34;BRL&#34;}, &#34;customerNote&#34;: null, &#34;garnishItems&#34;: [{&#34;name&#34;: &#34;TRADICIONAL&#34;, &#34;addition&#34;: {&#34;value&#34;: &#34;0&#34;, &#34;currency&#34;: &#34;BRL&#34;}, &#34;discount&#34;: {&#34;value&#34;: &#34;0&#34;, &#34;currency&#34;: &#34;BRL&#34;}, &#34;quantity&#34;: 1.00, &#34;sequence&#34;: 2, &#34;unitPrice&#34;: {&#34;value&#34;: &#34;0&#34;, &#34;currency&#34;: &#34;BRL&#34;}, &#34;categoryId&#34;: &#34;0025&#34;, &#34;externalId&#34;: &#34;2b89a4d4d6f14541a8830e5808d1f09f&#34;, &#34;totalValue&#34;: {&#34;value&#34;: &#34;0&#34;, &#34;currency&#34;: &#34;BRL&#34;}, &#34;categoryName&#34;: &#34;Escolha a sua Preferência&#34;, &#34;integrationId&#34;: null}, {&#34;name&#34;: &#34;1/2 21 - PIZZA FRANGO COM BACON E CATUPIRY &#34;, &#34;addition&#34;: {&#34;value&#34;: &#34;0&#34;, &#34;currency&#34;: &#34;BRL&#34;}, &#34;discount&#34;: {&#34;value&#34;: &#34;0&#34;, &#34;currency&#34;: &#34;BRL&#34;}, &#34;quantity&#34;: 1.00, &#34;sequence&#34;: 3, &#34;unitPrice&#34;: {&#34;value&#34;: &#34;1750&#34;, &#34;currency&#34;: &#34;BRL&#34;}, &#34;categoryId&#34;: &#34;SABOR&#34;, &#34;externalId&#34;: &#34;c7f63cc58a3643c7aa3f24858c7029f4&#34;, &#34;totalValue&#34;: {&#34;value&#34;: &#34;1750&#34;, &#34;currency&#34;: &#34;BRL&#34;}, &#34;categoryName&#34;: &#34;Escolha um sabor&#34;, &#34;integrationId&#34;: null}, {&#34;name&#34;: &#34;1/2 21 - PIZZA FRANGO COM BACON E CATUPIRY &#34;, &#34;addition&#34;: {&#34;value&#34;: &#34;0&#34;, &#34;currency&#34;: &#34;BRL&#34;}, &#34;discount&#34;: {&#34;value&#34;: &#34;0&#34;, &#34;currency&#34;: &#34;BRL&#34;}, &#34;quantity&#34;: 1.00, &#34;sequence&#34;: 3, &#34;unitPrice&#34;: {&#34;value&#34;: &#34;1750&#34;, &#34;currency&#34;: &#34;BRL&#34;}, &#34;categoryId&#34;: &#34;SABOR2&#34;, &#34;externalId&#34;: &#34;c7f63cc58a3643c7aa3f24858c7029f4&#34;, &#34;totalValue&#34;: {&#34;value&#34;: &#34;1750&#34;, &#34;currency&#34;: &#34;BRL&#34;}, &#34;categoryName&#34;: &#34;Escolha o segundo sabor&#34;, &#34;integrationId&#34;: null}, {&#34;name&#34;: &#34;1/2 29 - PIZZA À MODA DA CASA&#34;, &#34;addition&#34;: {&#34;value&#34;: &#34;0&#34;, &#34;currency&#34;: &#34;BRL&#34;}, &#34;discount&#34;: {&#34;value&#34;: &#34;0&#34;, &#34;currency&#34;: &#34;BRL&#34;}, &#34;quantity&#34;: 1.00, &#34;sequence&#34;: 4, &#34;unitPrice&#34;: {&#34;value&#34;: &#34;1750&#34;, &#34;currency&#34;: &#34;BRL&#34;}, &#34;categoryId&#34;: &#34;SABOR&#34;, &#34;externalId&#34;: &#34;0dcd4a195d6243ec806eb5a29682c797&#34;, &#34;totalValue&#34;: {&#34;value&#34;: &#34;1750&#34;, &#34;currency&#34;: &#34;BRL&#34;}, &#34;categoryName&#34;: &#34;Escolha um sabor&#34;, &#34;integrationId&#34;: null}, {&#34;name&#34;: &#34;1/2 29 - PIZZA À MODA DA CASA&#34;, &#34;addition&#34;: {&#34;value&#34;: &#34;0&#34;, &#34;currency&#34;: &#34;BRL&#34;}, &#34;discount&#34;: {&#34;value&#34;: &#34;0&#34;, &#34;currency&#34;: &#34;BRL&#34;}, &#34;quantity&#34;: 1.00, &#34;sequence&#34;: 4, &#34;unitPrice&#34;: {&#34;value&#34;: &#34;1750&#34;, &#34;currency&#34;: &#34;BRL&#34;}, &#34;categoryId&#34;: &#34;SABOR2&#34;, &#34;externalId&#34;: &#34;0dcd4a195d6243ec806eb5a29682c797&#34;, &#34;totalValue&#34;: {&#34;value&#34;: &#34;1750&#34;, &#34;currency&#34;: &#34;BRL&#34;}, &#34;categoryName&#34;: &#34;Escolha o segundo sabor&#34;, &#34;integrationId&#34;: null}], &#34;integrationId&#34;: null, &#34;totalAddition&#34;: {&#34;value&#34;: &#34;0&#34;, &#34;currency&#34;: &#34;BRL&#34;}, &#34;totalDiscount&#34;: {&#34;value&#34;: &#34;0&#34;, &#34;currency&#34;: &#34;BRL&#34;}}]&#39;, merchant_id=&#39;71ad62c5-5947-4518-9846-976fbdd2f881&#39;, merchant_latitude=&#39;-46.53&#39;, merchant_longitude=&#39;-23.44&#39;, merchant_timezone=&#39;America/Sao_Paulo&#39;, order_created_at=&#39;2019-01-17T22:53:47.000Z&#39;, order_id=&#39;430f9887-a563-45ee-8001-1cb29597d9dd&#39;, order_scheduled=False, order_scheduled_date=None, order_total_amount=35.0, origin_platform=&#39;IOS&#39;),\n",
       " Row(cpf=&#39;63579726866&#39;, customer_id=&#39;6b40a7cc-de6a-4456-ada3-66d67453b88e&#39;, customer_name=&#39;ANNIE&#39;, delivery_address_city=&#39;SAO PAULO&#39;, delivery_address_country=&#39;BR&#39;, delivery_address_district=&#39;PARQUE SAO JORGE&#39;, delivery_address_external_id=&#39;7834087&#39;, delivery_address_latitude=&#39;-46.57&#39;, delivery_address_longitude=&#39;-23.53&#39;, delivery_address_state=&#39;SP&#39;, delivery_address_zip_code=&#39;30870&#39;, items=&#39;[{&#34;name&#34;: &#34;CALABRESA&#34;, &#34;addition&#34;: {&#34;value&#34;: &#34;0&#34;, &#34;currency&#34;: &#34;BRL&#34;}, &#34;discount&#34;: {&#34;value&#34;: &#34;0&#34;, &#34;currency&#34;: &#34;BRL&#34;}, &#34;quantity&#34;: 1.00, &#34;sequence&#34;: 1, &#34;unitPrice&#34;: {&#34;value&#34;: &#34;2040&#34;, &#34;currency&#34;: &#34;BRL&#34;}, &#34;externalId&#34;: &#34;5b598957c69a4aa68e02a20e3ce617a1&#34;, &#34;totalValue&#34;: {&#34;value&#34;: &#34;2040&#34;, &#34;currency&#34;: &#34;BRL&#34;}, &#34;customerNote&#34;: null, &#34;garnishItems&#34;: [], &#34;integrationId&#34;: null, &#34;totalAddition&#34;: {&#34;value&#34;: &#34;0&#34;, &#34;currency&#34;: &#34;BRL&#34;}, &#34;totalDiscount&#34;: {&#34;value&#34;: &#34;0&#34;, &#34;currency&#34;: &#34;BRL&#34;}}, {&#34;name&#34;: &#34;CHEESE SALADA&#34;, &#34;addition&#34;: {&#34;value&#34;: &#34;0&#34;, &#34;currency&#34;: &#34;BRL&#34;}, &#34;discount&#34;: {&#34;value&#34;: &#34;0&#34;, &#34;currency&#34;: &#34;BRL&#34;}, &#34;quantity&#34;: 1.00, &#34;sequence&#34;: 2, &#34;unitPrice&#34;: {&#34;value&#34;: &#34;2040&#34;, &#34;currency&#34;: &#34;BRL&#34;}, &#34;externalId&#34;: &#34;3a64b961d342467ea23792556c99f7c2&#34;, &#34;totalValue&#34;: {&#34;value&#34;: &#34;2040&#34;, &#34;currency&#34;: &#34;BRL&#34;}, &#34;customerNote&#34;: &#34;Sem tomate&#34;, &#34;garnishItems&#34;: [], &#34;integrationId&#34;: null, &#34;totalAddition&#34;: {&#34;value&#34;: &#34;0&#34;, &#34;currency&#34;: &#34;BRL&#34;}, &#34;totalDiscount&#34;: {&#34;value&#34;: &#34;0&#34;, &#34;currency&#34;: &#34;BRL&#34;}}]&#39;, merchant_id=&#39;27d71c8f-fa45-41a6-a964-dc8aefbd4540&#39;, merchant_latitude=&#39;-46.57&#39;, merchant_longitude=&#39;-23.53&#39;, merchant_timezone=&#39;America/Sao_Paulo&#39;, order_created_at=&#39;2019-01-17T23:56:53.000Z&#39;, order_id=&#39;1294917e-2247-4891-a183-4a4d4a3fa356&#39;, order_scheduled=False, order_scheduled_date=None, order_total_amount=40.8, origin_platform=&#39;IOS&#39;),\n",
       " Row(cpf=&#39;90617788806&#39;, customer_id=&#39;647469d8-e0f8-4fce-8fa9-eafd1802ccf1&#39;, customer_name=&#39;DANIEL&#39;, delivery_address_city=&#39;VITORIA&#39;, delivery_address_country=&#39;BR&#39;, delivery_address_district=&#39;JARDIM CAMBURI&#39;, delivery_address_external_id=&#39;7211683&#39;, delivery_address_latitude=&#39;-40.27&#39;, delivery_address_longitude=&#39;-20.25&#39;, delivery_address_state=&#39;ES&#39;, delivery_address_zip_code=&#39;29090&#39;, items=&#39;[{&#34;name&#34;: &#34;GRANDE (35CM) 8 PDÇ 2 SABORES&#34;, &#34;addition&#34;: {&#34;value&#34;: &#34;0&#34;, &#34;currency&#34;: &#34;BRL&#34;}, &#34;discount&#34;: {&#34;value&#34;: &#34;0&#34;, &#34;currency&#34;: &#34;BRL&#34;}, &#34;quantity&#34;: 1.00, &#34;sequence&#34;: 1, &#34;unitPrice&#34;: {&#34;value&#34;: &#34;0&#34;, &#34;currency&#34;: &#34;BRL&#34;}, &#34;externalId&#34;: &#34;83127d50665f4a269febd427eb49306b&#34;, &#34;totalValue&#34;: {&#34;value&#34;: &#34;0&#34;, &#34;currency&#34;: &#34;BRL&#34;}, &#34;customerNote&#34;: null, &#34;garnishItems&#34;: [{&#34;name&#34;: &#34;BORDA CATUPIRY GRÁTIS &#34;, &#34;addition&#34;: {&#34;value&#34;: &#34;0&#34;, &#34;currency&#34;: &#34;BRL&#34;}, &#34;discount&#34;: {&#34;value&#34;: &#34;0&#34;, &#34;currency&#34;: &#34;BRL&#34;}, &#34;quantity&#34;: 1.00, &#34;sequence&#34;: 2, &#34;unitPrice&#34;: {&#34;value&#34;: &#34;0&#34;, &#34;currency&#34;: &#34;BRL&#34;}, &#34;categoryId&#34;: &#34;0025&#34;, &#34;externalId&#34;: &#34;e9a71c078a6045eabb09bd4d38b991c6&#34;, &#34;totalValue&#34;: {&#34;value&#34;: &#34;0&#34;, &#34;currency&#34;: &#34;BRL&#34;}, &#34;categoryName&#34;: &#34;Escolha a sua Preferência&#34;, &#34;integrationId&#34;: null}, {&#34;name&#34;: &#34;1/2 MISTA&#34;, &#34;addition&#34;: {&#34;value&#34;: &#34;0&#34;, &#34;currency&#34;: &#34;BRL&#34;}, &#34;discount&#34;: {&#34;value&#34;: &#34;0&#34;, &#34;currency&#34;: &#34;BRL&#34;}, &#34;quantity&#34;: 1.00, &#34;sequence&#34;: 3, &#34;unitPrice&#34;: {&#34;value&#34;: &#34;2425&#34;, &#34;currency&#34;: &#34;BRL&#34;}, &#34;categoryId&#34;: &#34;SABOR&#34;, &#34;externalId&#34;: &#34;46510932dfd448af910ae16e112a8d3a&#34;, &#34;totalValue&#34;: {&#34;value&#34;: &#34;2425&#34;, &#34;currency&#34;: &#34;BRL&#34;}, &#34;categoryName&#34;: &#34;Escolha um sabor&#34;, &#34;integrationId&#34;: null}, {&#34;name&#34;: &#34;1/2 MISTA&#34;, &#34;addition&#34;: {&#34;value&#34;: &#34;0&#34;, &#34;currency&#34;: &#34;BRL&#34;}, &#34;discount&#34;: {&#34;value&#34;: &#34;0&#34;, &#34;currency&#34;: &#34;BRL&#34;}, &#34;quantity&#34;: 1.00, &#34;sequence&#34;: 3, &#34;unitPrice&#34;: {&#34;value&#34;: &#34;2425&#34;, &#34;currency&#34;: &#34;BRL&#34;}, &#34;categoryId&#34;: &#34;SABOR2&#34;, &#34;externalId&#34;: &#34;46510932dfd448af910ae16e112a8d3a&#34;, &#34;totalValue&#34;: {&#34;value&#34;: &#34;2425&#34;, &#34;currency&#34;: &#34;BRL&#34;}, &#34;categoryName&#34;: &#34;Escolha o segundo sabor&#34;, &#34;integrationId&#34;: null}, {&#34;name&#34;: &#34;1/2 À MODA CAPIXABA&#34;, &#34;addition&#34;: {&#34;value&#34;: &#34;0&#34;, &#34;currency&#34;: &#34;BRL&#34;}, &#34;discount&#34;: {&#34;value&#34;: &#34;0&#34;, &#34;currency&#34;: &#34;BRL&#34;}, &#34;quantity&#34;: 1.00, &#34;sequence&#34;: 4, &#34;unitPrice&#34;: {&#34;value&#34;: &#34;2425&#34;, &#34;currency&#34;: &#34;BRL&#34;}, &#34;categoryId&#34;: &#34;SABOR&#34;, &#34;externalId&#34;: &#34;5be89603526f4c42a6d9ac9e05f8a19a&#34;, &#34;totalValue&#34;: {&#34;value&#34;: &#34;2425&#34;, &#34;currency&#34;: &#34;BRL&#34;}, &#34;categoryName&#34;: &#34;Escolha um sabor&#34;, &#34;integrationId&#34;: null}, {&#34;name&#34;: &#34;1/2 À MODA CAPIXABA&#34;, &#34;addition&#34;: {&#34;value&#34;: &#34;0&#34;, &#34;currency&#34;: &#34;BRL&#34;}, &#34;discount&#34;: {&#34;value&#34;: &#34;0&#34;, &#34;currency&#34;: &#34;BRL&#34;}, &#34;quantity&#34;: 1.00, &#34;sequence&#34;: 4, &#34;unitPrice&#34;: {&#34;value&#34;: &#34;2425&#34;, &#34;currency&#34;: &#34;BRL&#34;}, &#34;categoryId&#34;: &#34;SABOR2&#34;, &#34;externalId&#34;: &#34;5be89603526f4c42a6d9ac9e05f8a19a&#34;, &#34;totalValue&#34;: {&#34;value&#34;: &#34;2425&#34;, &#34;currency&#34;: &#34;BRL&#34;}, &#34;categoryName&#34;: &#34;Escolha o segundo sabor&#34;, &#34;integrationId&#34;: null}], &#34;integrationId&#34;: null, &#34;totalAddition&#34;: {&#34;value&#34;: &#34;0&#34;, &#34;currency&#34;: &#34;BRL&#34;}, &#34;totalDiscount&#34;: {&#34;value&#34;: &#34;0&#34;, &#34;currency&#34;: &#34;BRL&#34;}}]&#39;, merchant_id=&#39;06764c46-8a87-490e-9b8d-e9310d0d6822&#39;, merchant_latitude=&#39;-40.27&#39;, merchant_longitude=&#39;-20.25&#39;, merchant_timezone=&#39;America/Sao_Paulo&#39;, order_created_at=&#39;2019-01-17T23:40:53.000Z&#39;, order_id=&#39;34755d74-781a-461b-8564-45a4e8d99dbd&#39;, order_scheduled=False, order_scheduled_date=None, order_total_amount=48.5, origin_platform=&#39;ANDROID&#39;)]</div>"
      ]
     },
     "metadata": {},
     "output_type": "display_data"
    }
   ],
   "source": [
    "order.take(5)"
   ]
  },
  {
   "cell_type": "code",
   "execution_count": 26,
   "metadata": {},
   "outputs": [
    {
     "data": {
      "text/html": [
       "<style scoped>\n",
       "  .ansiout {\n",
       "    display: block;\n",
       "    unicode-bidi: embed;\n",
       "    white-space: pre-wrap;\n",
       "    word-wrap: break-word;\n",
       "    word-break: break-all;\n",
       "    font-family: \"Source Code Pro\", \"Menlo\", monospace;;\n",
       "    font-size: 13px;\n",
       "    color: #555;\n",
       "    margin-left: 4px;\n",
       "    line-height: 19px;\n",
       "  }\n",
       "</style>\n",
       "<div class=\"ansiout\">root\n",
       "-- cpf: string (nullable = true)\n",
       "-- customer_id: string (nullable = true)\n",
       "-- customer_name: string (nullable = true)\n",
       "-- delivery_address_city: string (nullable = true)\n",
       "-- delivery_address_country: string (nullable = true)\n",
       "-- delivery_address_district: string (nullable = true)\n",
       "-- delivery_address_external_id: string (nullable = true)\n",
       "-- delivery_address_latitude: string (nullable = true)\n",
       "-- delivery_address_longitude: string (nullable = true)\n",
       "-- delivery_address_state: string (nullable = true)\n",
       "-- delivery_address_zip_code: string (nullable = true)\n",
       "-- items: string (nullable = true)\n",
       "-- merchant_id: string (nullable = true)\n",
       "-- merchant_latitude: string (nullable = true)\n",
       "-- merchant_longitude: string (nullable = true)\n",
       "-- merchant_timezone: string (nullable = true)\n",
       "-- order_created_at: string (nullable = true)\n",
       "-- order_id: string (nullable = true)\n",
       "-- order_scheduled: boolean (nullable = true)\n",
       "-- order_scheduled_date: string (nullable = true)\n",
       "-- order_total_amount: double (nullable = true)\n",
       "-- origin_platform: string (nullable = true)\n",
       "\n",
       "</div>"
      ]
     },
     "metadata": {},
     "output_type": "display_data"
    }
   ],
   "source": [
    "order.printSchema()"
   ]
  },
  {
   "cell_type": "code",
   "execution_count": 27,
   "metadata": {},
   "outputs": [
    {
     "data": {
      "text/html": [
       "<style scoped>\n",
       "  .ansiout {\n",
       "    display: block;\n",
       "    unicode-bidi: embed;\n",
       "    white-space: pre-wrap;\n",
       "    word-wrap: break-word;\n",
       "    word-break: break-all;\n",
       "    font-family: \"Source Code Pro\", \"Menlo\", monospace;;\n",
       "    font-size: 13px;\n",
       "    color: #555;\n",
       "    margin-left: 4px;\n",
       "    line-height: 19px;\n",
       "  }\n",
       "</style>\n",
       "<div class=\"ansiout\"></div>"
      ]
     },
     "metadata": {},
     "output_type": "display_data"
    }
   ],
   "source": [
    "#criar estrutura para order\n",
    "orderDF = order.withColumn(\"cpf\", order[\"cpf\"].cast(IntegerType()))\\\n",
    ".withColumn(\"customer_id\", order[\"customer_id\"].cast(StringType()))\\\n",
    ".withColumn(\"customer_name\", order[\"customer_name\"].cast(StringType()))\\\n",
    ".withColumn(\"delivery_address_city\", order[\"delivery_address_city\"].cast(StringType()))\\\n",
    ".withColumn(\"delivery_address_country\", order[\"delivery_address_country\"].cast(StringType()))\\\n",
    ".withColumn(\"delivery_address_district\", order[\"delivery_address_district\"].cast(StringType()))\\\n",
    ".withColumn(\"delivery_address_external_id\", order[\"delivery_address_external_id\"].cast(IntegerType()))\\\n",
    ".withColumn(\"delivery_address_latitude\", order[\"delivery_address_latitude\"].cast(FloatType()))\\\n",
    ".withColumn(\"delivery_address_longitude\", order[\"delivery_address_longitude\"].cast(FloatType()))\\\n",
    ".withColumn(\"delivery_address_state\", order[\"delivery_address_state\"].cast(StringType()))\\\n",
    ".withColumn(\"delivery_address_zip_code\", order[\"delivery_address_zip_code\"].cast(IntegerType()))\\\n",
    ".withColumn(\"items\", order[\"items\"].cast(StringType()))\\\n",
    ".withColumn(\"merchant_id\", order[\"merchant_id\"].cast(StringType()))\\\n",
    ".withColumn(\"merchant_latitude\", order[\"merchant_latitude\"].cast(FloatType()))\\\n",
    ".withColumn(\"merchant_timezone\", order[\"merchant_timezone\"].cast(StringType()))\\\n",
    ".withColumn(\"order_created_at\", order[\"order_created_at\"].cast(StringType()))\\\n",
    ".withColumn(\"order_id\", order[\"order_id\"].cast(StringType()))\\\n",
    ".withColumn(\"order_scheduled\", order[\"order_scheduled\"].cast(BooleanType()))\\\n",
    ".withColumn(\"order_scheduled_date\", order[\"order_scheduled_date\"].cast(StringType()))\\\n",
    ".withColumn(\"origin_platform\", order[\"origin_platform\"].cast(StringType()))"
   ]
  },
  {
   "cell_type": "code",
   "execution_count": 28,
   "metadata": {},
   "outputs": [
    {
     "data": {
      "text/html": [
       "<style scoped>\n",
       "  .ansiout {\n",
       "    display: block;\n",
       "    unicode-bidi: embed;\n",
       "    white-space: pre-wrap;\n",
       "    word-wrap: break-word;\n",
       "    word-break: break-all;\n",
       "    font-family: \"Source Code Pro\", \"Menlo\", monospace;;\n",
       "    font-size: 13px;\n",
       "    color: #555;\n",
       "    margin-left: 4px;\n",
       "    line-height: 19px;\n",
       "  }\n",
       "</style>\n",
       "<div class=\"ansiout\">root\n",
       "-- cpf: integer (nullable = true)\n",
       "-- customer_id: string (nullable = true)\n",
       "-- customer_name: string (nullable = true)\n",
       "-- delivery_address_city: string (nullable = true)\n",
       "-- delivery_address_country: string (nullable = true)\n",
       "-- delivery_address_district: string (nullable = true)\n",
       "-- delivery_address_external_id: integer (nullable = true)\n",
       "-- delivery_address_latitude: float (nullable = true)\n",
       "-- delivery_address_longitude: float (nullable = true)\n",
       "-- delivery_address_state: string (nullable = true)\n",
       "-- delivery_address_zip_code: integer (nullable = true)\n",
       "-- items: string (nullable = true)\n",
       "-- merchant_id: string (nullable = true)\n",
       "-- merchant_latitude: float (nullable = true)\n",
       "-- merchant_longitude: string (nullable = true)\n",
       "-- merchant_timezone: string (nullable = true)\n",
       "-- order_created_at: string (nullable = true)\n",
       "-- order_id: string (nullable = true)\n",
       "-- order_scheduled: boolean (nullable = true)\n",
       "-- order_scheduled_date: string (nullable = true)\n",
       "-- order_total_amount: double (nullable = true)\n",
       "-- origin_platform: string (nullable = true)\n",
       "\n",
       "</div>"
      ]
     },
     "metadata": {},
     "output_type": "display_data"
    }
   ],
   "source": [
    "orderDF.printSchema()"
   ]
  },
  {
   "cell_type": "code",
   "execution_count": 29,
   "metadata": {},
   "outputs": [
    {
     "data": {
      "text/html": [
       "<style scoped>\n",
       "  .ansiout {\n",
       "    display: block;\n",
       "    unicode-bidi: embed;\n",
       "    white-space: pre-wrap;\n",
       "    word-wrap: break-word;\n",
       "    word-break: break-all;\n",
       "    font-family: \"Source Code Pro\", \"Menlo\", monospace;;\n",
       "    font-size: 13px;\n",
       "    color: #555;\n",
       "    margin-left: 4px;\n",
       "    line-height: 19px;\n",
       "  }\n",
       "</style>\n",
       "<div class=\"ansiout\"></div>"
      ]
     },
     "metadata": {},
     "output_type": "display_data"
    }
   ],
   "source": [
    "orderDF.createOrReplaceTempView('order')"
   ]
  },
  {
   "cell_type": "code",
   "execution_count": 30,
   "metadata": {},
   "outputs": [
    {
     "data": {
      "text/html": [
       "<style scoped>\n",
       "  .table-result-container {\n",
       "    max-height: 300px;\n",
       "    overflow: auto;\n",
       "  }\n",
       "  table, th, td {\n",
       "    border: 1px solid black;\n",
       "    border-collapse: collapse;\n",
       "  }\n",
       "  th, td {\n",
       "    padding: 5px;\n",
       "  }\n",
       "  th {\n",
       "    text-align: left;\n",
       "  }\n",
       "</style><div class='table-result-container'><table class='table-result'><thead style='background-color: white'><tr><th>cpf</th><th>customer_id</th><th>customer_name</th><th>delivery_address_city</th><th>delivery_address_country</th><th>delivery_address_district</th><th>delivery_address_external_id</th><th>delivery_address_latitude</th><th>delivery_address_longitude</th><th>delivery_address_state</th><th>delivery_address_zip_code</th><th>items</th><th>merchant_id</th><th>merchant_latitude</th><th>merchant_longitude</th><th>merchant_timezone</th><th>order_created_at</th><th>order_id</th><th>order_scheduled</th><th>order_scheduled_date</th><th>order_total_amount</th><th>origin_platform</th></tr></thead><tbody><tr><td>null</td><td>977b9a89-825f-464b-8ef6-0f453d7334c1</td><td>GUSTAVO</td><td>FRANCA</td><td>BR</td><td>JARDIM ESPRAIADO</td><td>6736655</td><td>-47.39</td><td>-20.55</td><td>SP</td><td>14403</td><td>[{\"name\": \"Parmegiana de Filé de Frango (2 pessoas)\", \"addition\": {\"value\": \"0\", \"currency\": \"BRL\"}, \"discount\": {\"value\": \"0\", \"currency\": \"BRL\"}, \"quantity\": 1.00, \"sequence\": 1, \"unitPrice\": {\"value\": \"2800\", \"currency\": \"BRL\"}, \"externalId\": \"0bcd6764fd5e466d9c04b18ac0eb69e6\", \"totalValue\": {\"value\": \"2800\", \"currency\": \"BRL\"}, \"customerNote\": null, \"garnishItems\": [{\"name\": \"COM Arroz branco\", \"addition\": {\"value\": \"0\", \"currency\": \"BRL\"}, \"discount\": {\"value\": \"0\", \"currency\": \"BRL\"}, \"quantity\": 1.00, \"sequence\": 2, \"unitPrice\": {\"value\": \"0\", \"currency\": \"BRL\"}, \"categoryId\": \"13HDH\", \"externalId\": \"384bd2b4eb7d454d8e0274e7d590ab4f\", \"totalValue\": {\"value\": \"0\", \"currency\": \"BRL\"}, \"categoryName\": \"PERSONALIZAR\", \"integrationId\": null}], \"integrationId\": \"PMFR\", \"totalAddition\": {\"value\": \"0\", \"currency\": \"BRL\"}, \"totalDiscount\": {\"value\": \"0\", \"currency\": \"BRL\"}}, {\"name\": \"Lasanha Frango (2 pessoas)\", \"addition\": {\"value\": \"0\", \"currency\": \"BRL\"}, \"discount\": {\"value\": \"0\", \"currency\": \"BRL\"}, \"quantity\": 1.00, \"sequence\": 3, \"unitPrice\": {\"value\": \"1800\", \"currency\": \"BRL\"}, \"externalId\": \"a361f5eec6a44ac0817892e81bf22e80\", \"totalValue\": {\"value\": \"1800\", \"currency\": \"BRL\"}, \"customerNote\": null, \"garnishItems\": [], \"integrationId\": \"LF\", \"totalAddition\": {\"value\": \"0\", \"currency\": \"BRL\"}, \"totalDiscount\": {\"value\": \"0\", \"currency\": \"BRL\"}}]</td><td>eb4197f9-964c-4f87-8307-709e498aab87</td><td>-47.39</td><td>-20.55</td><td>America/Sao_Paulo</td><td>2019-01-17T22:50:06.000Z</td><td>dd4f8f0a-c2cb-45c6-a002-c3be6b305e5f</td><td>false</td><td>null</td><td>46.0</td><td>ANDROID</td></tr><tr><td>null</td><td>e969cc0d-388b-4025-9351-0db0f718d81c</td><td>MICHELLE</td><td>SANTOS</td><td>BR</td><td>CAMPO GRANDE</td><td>8759216</td><td>-46.34</td><td>-23.96</td><td>SP</td><td>11070</td><td>[{\"name\": \"Filé Mignon à Cubana\", \"addition\": {\"value\": \"0\", \"currency\": \"BRL\"}, \"discount\": {\"value\": \"0\", \"currency\": \"BRL\"}, \"quantity\": 1.00, \"sequence\": 1, \"unitPrice\": {\"value\": \"0\", \"currency\": \"BRL\"}, \"externalId\": \"e0e81b2027c241cca5bf60a4768800ec\", \"totalValue\": {\"value\": \"0\", \"currency\": \"BRL\"}, \"customerNote\": null, \"garnishItems\": [{\"name\": \"334 - 1/2 porção \", \"addition\": {\"value\": \"0\", \"currency\": \"BRL\"}, \"discount\": {\"value\": \"0\", \"currency\": \"BRL\"}, \"quantity\": 1.00, \"sequence\": 2, \"unitPrice\": {\"value\": \"7350\", \"currency\": \"BRL\"}, \"categoryId\": \"1J3T0\", \"externalId\": \"b869c10747d1417d8968d7e3e1bd7de4\", \"totalValue\": {\"value\": \"7350\", \"currency\": \"BRL\"}, \"categoryName\": \"escolha sua porção \", \"integrationId\": null}], \"integrationId\": null, \"totalAddition\": {\"value\": \"0\", \"currency\": \"BRL\"}, \"totalDiscount\": {\"value\": \"0\", \"currency\": \"BRL\"}}, {\"name\": \"603- Pudim de leite\", \"addition\": {\"value\": \"0\", \"currency\": \"BRL\"}, \"discount\": {\"value\": \"0\", \"currency\": \"BRL\"}, \"quantity\": 1.00, \"sequence\": 4, \"unitPrice\": {\"value\": \"800\", \"currency\": \"BRL\"}, \"externalId\": \"4436f76edc164052aaf3c21a6567b570\", \"totalValue\": {\"value\": \"800\", \"currency\": \"BRL\"}, \"customerNote\": null, \"garnishItems\": [], \"integrationId\": null, \"totalAddition\": {\"value\": \"0\", \"currency\": \"BRL\"}, \"totalDiscount\": {\"value\": \"0\", \"currency\": \"BRL\"}}, {\"name\": \"601-Torta Holandesa\", \"addition\": {\"value\": \"0\", \"currency\": \"BRL\"}, \"discount\": {\"value\": \"0\", \"currency\": \"BRL\"}, \"quantity\": 1.00, \"sequence\": 5, \"unitPrice\": {\"value\": \"800\", \"currency\": \"BRL\"}, \"externalId\": \"c0b788e876c54f198307dc142fed7aff\", \"totalValue\": {\"value\": \"800\", \"currency\": \"BRL\"}, \"customerNote\": null, \"garnishItems\": [], \"integrationId\": null, \"totalAddition\": {\"value\": \"0\", \"currency\": \"BRL\"}, \"totalDiscount\": {\"value\": \"0\", \"currency\": \"BRL\"}}, {\"name\": \"513 - Guarnição Completa II\", \"addition\": {\"value\": \"0\", \"currency\": \"BRL\"}, \"discount\": {\"value\": \"0\", \"currency\": \"BRL\"}, \"quantity\": 1.00, \"sequence\": 3, \"unitPrice\": {\"value\": \"1500\", \"currency\": \"BRL\"}, \"externalId\": \"385fb04a358340878b14116df9970e46\", \"totalValue\": {\"value\": \"1500\", \"currency\": \"BRL\"}, \"customerNote\": null, \"garnishItems\": [], \"integrationId\": null, \"totalAddition\": {\"value\": \"0\", \"currency\": \"BRL\"}, \"totalDiscount\": {\"value\": \"0\", \"currency\": \"BRL\"}}]</td><td>927d46f9-4bb3-48f7-be1d-584deaf18adc</td><td>-46.34</td><td>-23.96</td><td>America/Sao_Paulo</td><td>2019-01-17T17:51:26.000Z</td><td>8dd80f0b-db00-4b88-b7e2-02ca706fc5a5</td><td>false</td><td>null</td><td>104.5</td><td>ANDROID</td></tr><tr><td>null</td><td>e08dcc8b-f998-405e-b3f2-7107ea8958cf</td><td>VICTOR</td><td>GUARULHOS</td><td>BR</td><td>JARDIM ROSSI</td><td>8765930</td><td>-46.53</td><td>-23.44</td><td>SP</td><td>71304</td><td>[{\"name\": \"GRANDE 2 SABORES\", \"addition\": {\"value\": \"0\", \"currency\": \"BRL\"}, \"discount\": {\"value\": \"0\", \"currency\": \"BRL\"}, \"quantity\": 1.00, \"sequence\": 1, \"unitPrice\": {\"value\": \"0\", \"currency\": \"BRL\"}, \"externalId\": \"87a24efdd88c4b7b8bf1132cabfd4195\", \"totalValue\": {\"value\": \"0\", \"currency\": \"BRL\"}, \"customerNote\": null, \"garnishItems\": [{\"name\": \"TRADICIONAL\", \"addition\": {\"value\": \"0\", \"currency\": \"BRL\"}, \"discount\": {\"value\": \"0\", \"currency\": \"BRL\"}, \"quantity\": 1.00, \"sequence\": 2, \"unitPrice\": {\"value\": \"0\", \"currency\": \"BRL\"}, \"categoryId\": \"0025\", \"externalId\": \"2b89a4d4d6f14541a8830e5808d1f09f\", \"totalValue\": {\"value\": \"0\", \"currency\": \"BRL\"}, \"categoryName\": \"Escolha a sua Preferência\", \"integrationId\": null}, {\"name\": \"1/2 21 - PIZZA FRANGO COM BACON E CATUPIRY \", \"addition\": {\"value\": \"0\", \"currency\": \"BRL\"}, \"discount\": {\"value\": \"0\", \"currency\": \"BRL\"}, \"quantity\": 1.00, \"sequence\": 3, \"unitPrice\": {\"value\": \"1750\", \"currency\": \"BRL\"}, \"categoryId\": \"SABOR\", \"externalId\": \"c7f63cc58a3643c7aa3f24858c7029f4\", \"totalValue\": {\"value\": \"1750\", \"currency\": \"BRL\"}, \"categoryName\": \"Escolha um sabor\", \"integrationId\": null}, {\"name\": \"1/2 21 - PIZZA FRANGO COM BACON E CATUPIRY \", \"addition\": {\"value\": \"0\", \"currency\": \"BRL\"}, \"discount\": {\"value\": \"0\", \"currency\": \"BRL\"}, \"quantity\": 1.00, \"sequence\": 3, \"unitPrice\": {\"value\": \"1750\", \"currency\": \"BRL\"}, \"categoryId\": \"SABOR2\", \"externalId\": \"c7f63cc58a3643c7aa3f24858c7029f4\", \"totalValue\": {\"value\": \"1750\", \"currency\": \"BRL\"}, \"categoryName\": \"Escolha o segundo sabor\", \"integrationId\": null}, {\"name\": \"1/2 29 - PIZZA À MODA DA CASA\", \"addition\": {\"value\": \"0\", \"currency\": \"BRL\"}, \"discount\": {\"value\": \"0\", \"currency\": \"BRL\"}, \"quantity\": 1.00, \"sequence\": 4, \"unitPrice\": {\"value\": \"1750\", \"currency\": \"BRL\"}, \"categoryId\": \"SABOR\", \"externalId\": \"0dcd4a195d6243ec806eb5a29682c797\", \"totalValue\": {\"value\": \"1750\", \"currency\": \"BRL\"}, \"categoryName\": \"Escolha um sabor\", \"integrationId\": null}, {\"name\": \"1/2 29 - PIZZA À MODA DA CASA\", \"addition\": {\"value\": \"0\", \"currency\": \"BRL\"}, \"discount\": {\"value\": \"0\", \"currency\": \"BRL\"}, \"quantity\": 1.00, \"sequence\": 4, \"unitPrice\": {\"value\": \"1750\", \"currency\": \"BRL\"}, \"categoryId\": \"SABOR2\", \"externalId\": \"0dcd4a195d6243ec806eb5a29682c797\", \"totalValue\": {\"value\": \"1750\", \"currency\": \"BRL\"}, \"categoryName\": \"Escolha o segundo sabor\", \"integrationId\": null}], \"integrationId\": null, \"totalAddition\": {\"value\": \"0\", \"currency\": \"BRL\"}, \"totalDiscount\": {\"value\": \"0\", \"currency\": \"BRL\"}}]</td><td>71ad62c5-5947-4518-9846-976fbdd2f881</td><td>-46.53</td><td>-23.44</td><td>America/Sao_Paulo</td><td>2019-01-17T22:53:47.000Z</td><td>430f9887-a563-45ee-8001-1cb29597d9dd</td><td>false</td><td>null</td><td>35.0</td><td>IOS</td></tr><tr><td>null</td><td>6b40a7cc-de6a-4456-ada3-66d67453b88e</td><td>ANNIE</td><td>SAO PAULO</td><td>BR</td><td>PARQUE SAO JORGE</td><td>7834087</td><td>-46.57</td><td>-23.53</td><td>SP</td><td>30870</td><td>[{\"name\": \"CALABRESA\", \"addition\": {\"value\": \"0\", \"currency\": \"BRL\"}, \"discount\": {\"value\": \"0\", \"currency\": \"BRL\"}, \"quantity\": 1.00, \"sequence\": 1, \"unitPrice\": {\"value\": \"2040\", \"currency\": \"BRL\"}, \"externalId\": \"5b598957c69a4aa68e02a20e3ce617a1\", \"totalValue\": {\"value\": \"2040\", \"currency\": \"BRL\"}, \"customerNote\": null, \"garnishItems\": [], \"integrationId\": null, \"totalAddition\": {\"value\": \"0\", \"currency\": \"BRL\"}, \"totalDiscount\": {\"value\": \"0\", \"currency\": \"BRL\"}}, {\"name\": \"CHEESE SALADA\", \"addition\": {\"value\": \"0\", \"currency\": \"BRL\"}, \"discount\": {\"value\": \"0\", \"currency\": \"BRL\"}, \"quantity\": 1.00, \"sequence\": 2, \"unitPrice\": {\"value\": \"2040\", \"currency\": \"BRL\"}, \"externalId\": \"3a64b961d342467ea23792556c99f7c2\", \"totalValue\": {\"value\": \"2040\", \"currency\": \"BRL\"}, \"customerNote\": \"Sem tomate\", \"garnishItems\": [], \"integrationId\": null, \"totalAddition\": {\"value\": \"0\", \"currency\": \"BRL\"}, \"totalDiscount\": {\"value\": \"0\", \"currency\": \"BRL\"}}]</td><td>27d71c8f-fa45-41a6-a964-dc8aefbd4540</td><td>-46.57</td><td>-23.53</td><td>America/Sao_Paulo</td><td>2019-01-17T23:56:53.000Z</td><td>1294917e-2247-4891-a183-4a4d4a3fa356</td><td>false</td><td>null</td><td>40.8</td><td>IOS</td></tr><tr><td>null</td><td>647469d8-e0f8-4fce-8fa9-eafd1802ccf1</td><td>DANIEL</td><td>VITORIA</td><td>BR</td><td>JARDIM CAMBURI</td><td>7211683</td><td>-40.27</td><td>-20.25</td><td>ES</td><td>29090</td><td>[{\"name\": \"GRANDE (35CM) 8 PDÇ 2 SABORES\", \"addition\": {\"value\": \"0\", \"currency\": \"BRL\"}, \"discount\": {\"value\": \"0\", \"currency\": \"BRL\"}, \"quantity\": 1.00, \"sequence\": 1, \"unitPrice\": {\"value\": \"0\", \"currency\": \"BRL\"}, \"externalId\": \"83127d50665f4a269febd427eb49306b\", \"totalValue\": {\"value\": \"0\", \"currency\": \"BRL\"}, \"customerNote\": null, \"garnishItems\": [{\"name\": \"BORDA CATUPIRY GRÁTIS \", \"addition\": {\"value\": \"0\", \"currency\": \"BRL\"}, \"discount\": {\"value\": \"0\", \"currency\": \"BRL\"}, \"quantity\": 1.00, \"sequence\": 2, \"unitPrice\": {\"value\": \"0\", \"currency\": \"BRL\"}, \"categoryId\": \"0025\", \"externalId\": \"e9a71c078a6045eabb09bd4d38b991c6\", \"totalValue\": {\"value\": \"0\", \"currency\": \"BRL\"}, \"categoryName\": \"Escolha a sua Preferência\", \"integrationId\": null}, {\"name\": \"1/2 MISTA\", \"addition\": {\"value\": \"0\", \"currency\": \"BRL\"}, \"discount\": {\"value\": \"0\", \"currency\": \"BRL\"}, \"quantity\": 1.00, \"sequence\": 3, \"unitPrice\": {\"value\": \"2425\", \"currency\": \"BRL\"}, \"categoryId\": \"SABOR\", \"externalId\": \"46510932dfd448af910ae16e112a8d3a\", \"totalValue\": {\"value\": \"2425\", \"currency\": \"BRL\"}, \"categoryName\": \"Escolha um sabor\", \"integrationId\": null}, {\"name\": \"1/2 MISTA\", \"addition\": {\"value\": \"0\", \"currency\": \"BRL\"}, \"discount\": {\"value\": \"0\", \"currency\": \"BRL\"}, \"quantity\": 1.00, \"sequence\": 3, \"unitPrice\": {\"value\": \"2425\", \"currency\": \"BRL\"}, \"categoryId\": \"SABOR2\", \"externalId\": \"46510932dfd448af910ae16e112a8d3a\", \"totalValue\": {\"value\": \"2425\", \"currency\": \"BRL\"}, \"categoryName\": \"Escolha o segundo sabor\", \"integrationId\": null}, {\"name\": \"1/2 À MODA CAPIXABA\", \"addition\": {\"value\": \"0\", \"currency\": \"BRL\"}, \"discount\": {\"value\": \"0\", \"currency\": \"BRL\"}, \"quantity\": 1.00, \"sequence\": 4, \"unitPrice\": {\"value\": \"2425\", \"currency\": \"BRL\"}, \"categoryId\": \"SABOR\", \"externalId\": \"5be89603526f4c42a6d9ac9e05f8a19a\", \"totalValue\": {\"value\": \"2425\", \"currency\": \"BRL\"}, \"categoryName\": \"Escolha um sabor\", \"integrationId\": null}, {\"name\": \"1/2 À MODA CAPIXABA\", \"addition\": {\"value\": \"0\", \"currency\": \"BRL\"}, \"discount\": {\"value\": \"0\", \"currency\": \"BRL\"}, \"quantity\": 1.00, \"sequence\": 4, \"unitPrice\": {\"value\": \"2425\", \"currency\": \"BRL\"}, \"categoryId\": \"SABOR2\", \"externalId\": \"5be89603526f4c42a6d9ac9e05f8a19a\", \"totalValue\": {\"value\": \"2425\", \"currency\": \"BRL\"}, \"categoryName\": \"Escolha o segundo sabor\", \"integrationId\": null}], \"integrationId\": null, \"totalAddition\": {\"value\": \"0\", \"currency\": \"BRL\"}, \"totalDiscount\": {\"value\": \"0\", \"currency\": \"BRL\"}}]</td><td>06764c46-8a87-490e-9b8d-e9310d0d6822</td><td>-40.27</td><td>-20.25</td><td>America/Sao_Paulo</td><td>2019-01-17T23:40:53.000Z</td><td>34755d74-781a-461b-8564-45a4e8d99dbd</td><td>false</td><td>null</td><td>48.5</td><td>ANDROID</td></tr></tbody></table></div>"
      ]
     },
     "metadata": {},
     "output_type": "display_data"
    }
   ],
   "source": [
    "%sql select * from order limit 5;"
   ]
  },
  {
   "cell_type": "code",
   "execution_count": 31,
   "metadata": {},
   "outputs": [
    {
     "data": {
      "text/html": [
       "<style scoped>\n",
       "  .ansiout {\n",
       "    display: block;\n",
       "    unicode-bidi: embed;\n",
       "    white-space: pre-wrap;\n",
       "    word-wrap: break-word;\n",
       "    word-break: break-all;\n",
       "    font-family: \"Source Code Pro\", \"Menlo\", monospace;;\n",
       "    font-size: 13px;\n",
       "    color: #555;\n",
       "    margin-left: 4px;\n",
       "    line-height: 19px;\n",
       "  }\n",
       "</style>\n",
       "<div class=\"ansiout\"></div>"
      ]
     },
     "metadata": {},
     "output_type": "display_data"
    }
   ],
   "source": [
    "#kafka - ler os producers, adicionado maxOffsetsPerTrigger com 10, pois estava estourando a memoria\n",
    "#topico produzindo as mesangens de-order-status-events\n",
    "kafkaDF = spark \\\n",
    "  .readStream \\\n",
    "  .format(\"kafka\") \\\n",
    "  .option(\"kafka.bootstrap.servers\", \"a49784be7f36511e9a6b60a341003dc2-1378330561.us-east-1.elb.amazonaws.com:9092, a4996369ef36511e9a6b60a341003dc2-1583999828.us-east-1.elb.amazonaws.com:9092\") \\\n",
    "  .option(\"subscribe\", \"de-order-status-events\") \\\n",
    "  .option(\"startingOffsets\", \"earliest\") \\\n",
    "  .option(\"maxOffsetsPerTrigger\", 10) \\\n",
    "  .load()"
   ]
  },
  {
   "cell_type": "code",
   "execution_count": 32,
   "metadata": {},
   "outputs": [
    {
     "data": {
      "text/html": [
       "<style scoped>\n",
       "  .ansiout {\n",
       "    display: block;\n",
       "    unicode-bidi: embed;\n",
       "    white-space: pre-wrap;\n",
       "    word-wrap: break-word;\n",
       "    word-break: break-all;\n",
       "    font-family: \"Source Code Pro\", \"Menlo\", monospace;;\n",
       "    font-size: 13px;\n",
       "    color: #555;\n",
       "    margin-left: 4px;\n",
       "    line-height: 19px;\n",
       "  }\n",
       "</style>\n",
       "<div class=\"ansiout\">root\n",
       "-- key: binary (nullable = true)\n",
       "-- value: binary (nullable = true)\n",
       "-- topic: string (nullable = true)\n",
       "-- partition: integer (nullable = true)\n",
       "-- offset: long (nullable = true)\n",
       "-- timestamp: timestamp (nullable = true)\n",
       "-- timestampType: integer (nullable = true)\n",
       "\n",
       "</div>"
      ]
     },
     "metadata": {},
     "output_type": "display_data"
    }
   ],
   "source": [
    "kafkaDF.printSchema()"
   ]
  },
  {
   "cell_type": "code",
   "execution_count": 33,
   "metadata": {},
   "outputs": [
    {
     "data": {
      "text/html": [
       "<style scoped>\n",
       "  .ansiout {\n",
       "    display: block;\n",
       "    unicode-bidi: embed;\n",
       "    white-space: pre-wrap;\n",
       "    word-wrap: break-word;\n",
       "    word-break: break-all;\n",
       "    font-family: \"Source Code Pro\", \"Menlo\", monospace;;\n",
       "    font-size: 13px;\n",
       "    color: #555;\n",
       "    margin-left: 4px;\n",
       "    line-height: 19px;\n",
       "  }\n",
       "</style>\n",
       "<div class=\"ansiout\"></div>"
      ]
     },
     "metadata": {},
     "output_type": "display_data"
    }
   ],
   "source": [
    "#ler a chave e valor por serem do tipo binary e cast para string\n",
    "kafkaValuesDF = kafkaDF.selectExpr(\"CAST(key AS STRING)\", \"CAST(value AS STRING)\")"
   ]
  },
  {
   "cell_type": "code",
   "execution_count": 34,
   "metadata": {},
   "outputs": [
    {
     "data": {
      "text/html": [
       "<style scoped>\n",
       "  .ansiout {\n",
       "    display: block;\n",
       "    unicode-bidi: embed;\n",
       "    white-space: pre-wrap;\n",
       "    word-wrap: break-word;\n",
       "    word-break: break-all;\n",
       "    font-family: \"Source Code Pro\", \"Menlo\", monospace;;\n",
       "    font-size: 13px;\n",
       "    color: #555;\n",
       "    margin-left: 4px;\n",
       "    line-height: 19px;\n",
       "  }\n",
       "</style>\n",
       "org.apache.spark.SparkException: Job aborted.\n",
       "\tat org.apache.spark.sql.execution.datasources.FileFormatWriter$.write(FileFormatWriter.scala:201)\n",
       "\tat org.apache.spark.sql.execution.streaming.FileStreamSink.addBatch(FileStreamSink.scala:131)\n",
       "\tat org.apache.spark.sql.execution.streaming.MicroBatchExecution$$anonfun$org$apache$spark$sql$execution$streaming$MicroBatchExecution$$runBatch$5$$anonfun$apply$17.apply(MicroBatchExecution.scala:568)\n",
       "\tat org.apache.spark.sql.execution.SQLExecution$$anonfun$withCustomExecutionEnv$1.apply(SQLExecution.scala:111)\n",
       "\tat org.apache.spark.sql.execution.SQLExecution$.withSQLConfPropagated(SQLExecution.scala:240)\n",
       "\tat org.apache.spark.sql.execution.SQLExecution$.withCustomExecutionEnv(SQLExecution.scala:97)\n",
       "\tat org.apache.spark.sql.execution.SQLExecution$.withNewExecutionId(SQLExecution.scala:170)\n",
       "\tat org.apache.spark.sql.execution.streaming.MicroBatchExecution$$anonfun$org$apache$spark$sql$execution$streaming$MicroBatchExecution$$runBatch$5.apply(MicroBatchExecution.scala:566)\n",
       "\tat org.apache.spark.sql.execution.streaming.ProgressReporter$class.reportTimeTaken(ProgressReporter.scala:263)\n",
       "\tat org.apache.spark.sql.execution.streaming.StreamExecution.reportTimeTaken(StreamExecution.scala:61)\n",
       "\tat org.apache.spark.sql.execution.streaming.MicroBatchExecution.org$apache$spark$sql$execution$streaming$MicroBatchExecution$$runBatch(MicroBatchExecution.scala:565)\n",
       "\tat org.apache.spark.sql.execution.streaming.MicroBatchExecution$$anonfun$runActivatedStream$1$$anonfun$apply$mcZ$sp$1.apply$mcV$sp(MicroBatchExecution.scala:207)\n",
       "\tat org.apache.spark.sql.execution.streaming.MicroBatchExecution$$anonfun$runActivatedStream$1$$anonfun$apply$mcZ$sp$1.apply(MicroBatchExecution.scala:175)\n",
       "\tat org.apache.spark.sql.execution.streaming.MicroBatchExecution$$anonfun$runActivatedStream$1$$anonfun$apply$mcZ$sp$1.apply(MicroBatchExecution.scala:175)\n",
       "\tat org.apache.spark.sql.execution.streaming.ProgressReporter$class.reportTimeTaken(ProgressReporter.scala:263)\n",
       "\tat org.apache.spark.sql.execution.streaming.StreamExecution.reportTimeTaken(StreamExecution.scala:61)\n",
       "\tat org.apache.spark.sql.execution.streaming.MicroBatchExecution$$anonfun$runActivatedStream$1.apply$mcZ$sp(MicroBatchExecution.scala:175)\n",
       "\tat org.apache.spark.sql.execution.streaming.ProcessingTimeExecutor.execute(TriggerExecutor.scala:56)\n",
       "\tat org.apache.spark.sql.execution.streaming.MicroBatchExecution.runActivatedStream(MicroBatchExecution.scala:169)\n",
       "\tat org.apache.spark.sql.execution.streaming.StreamExecution.org$apache$spark$sql$execution$streaming$StreamExecution$$runStream(StreamExecution.scala:296)\n",
       "\tat org.apache.spark.sql.execution.streaming.StreamExecution$$anon$1.run(StreamExecution.scala:208)\n",
       "Caused by: java.lang.IllegalStateException: dbfs:/saida/_spark_metadata/0 doesn't exist when compacting batch 9 (compactInterval: 10)\n",
       "\tat org.apache.spark.sql.execution.streaming.CompactibleFileStreamLog$$anonfun$3$$anonfun$apply$1.apply(CompactibleFileStreamLog.scala:182)\n",
       "\tat org.apache.spark.sql.execution.streaming.CompactibleFileStreamLog$$anonfun$3$$anonfun$apply$1.apply(CompactibleFileStreamLog.scala:182)\n",
       "\tat scala.Option.getOrElse(Option.scala:121)\n",
       "\tat org.apache.spark.sql.execution.streaming.CompactibleFileStreamLog$$anonfun$3.apply(CompactibleFileStreamLog.scala:181)\n",
       "\tat org.apache.spark.sql.execution.streaming.CompactibleFileStreamLog$$anonfun$3.apply(CompactibleFileStreamLog.scala:180)\n",
       "\tat scala.collection.TraversableLike$$anonfun$map$1.apply(TraversableLike.scala:234)\n",
       "\tat scala.collection.TraversableLike$$anonfun$map$1.apply(TraversableLike.scala:234)\n",
       "\tat scala.collection.immutable.NumericRange.foreach(NumericRange.scala:73)\n",
       "\tat scala.collection.TraversableLike$class.map(TraversableLike.scala:234)\n",
       "\tat scala.collection.AbstractTraversable.map(Traversable.scala:104)\n",
       "\tat org.apache.spark.sql.execution.streaming.CompactibleFileStreamLog.compact(CompactibleFileStreamLog.scala:180)\n",
       "\tat org.apache.spark.sql.execution.streaming.CompactibleFileStreamLog.add(CompactibleFileStreamLog.scala:164)\n",
       "\tat org.apache.spark.sql.execution.streaming.ManifestFileCommitProtocol.commitJob(ManifestFileCommitProtocol.scala:64)\n",
       "\tat org.apache.spark.sql.execution.datasources.FileFormatWriter$.write(FileFormatWriter.scala:190)\n",
       "\t... 20 more"
      ]
     },
     "metadata": {},
     "output_type": "display_data"
    }
   ],
   "source": [
    "#gravar em disco as mensagens, tempo por 10 segundos\n",
    "query = kafkaValuesDF.writeStream \\\n",
    ".option(\"path\", \"dbfs:/saida/\") \\\n",
    ".option(\"checkpointLocation\", \"dbfs:/ifood/\") \\\n",
    " .format(\"parquet\") \\\n",
    " .start() \n",
    "\n",
    "import time\n",
    "time.sleep(5)\n",
    "query.stop()"
   ]
  },
  {
   "cell_type": "code",
   "execution_count": 35,
   "metadata": {},
   "outputs": [
    {
     "data": {
      "text/html": [
       "<style scoped>\n",
       "  .table-result-container {\n",
       "    max-height: 300px;\n",
       "    overflow: auto;\n",
       "  }\n",
       "  table, th, td {\n",
       "    border: 1px solid black;\n",
       "    border-collapse: collapse;\n",
       "  }\n",
       "  th, td {\n",
       "    padding: 5px;\n",
       "  }\n",
       "  th {\n",
       "    text-align: left;\n",
       "  }\n",
       "</style><div class='table-result-container'><table class='table-result'><thead style='background-color: white'><tr><th>path</th><th>name</th><th>size</th></tr></thead><tbody><tr><td>dbfs:/saida/_spark_metadata/</td><td>_spark_metadata/</td><td>0</td></tr><tr><td>dbfs:/saida/part-00000-0825c241-9cb9-49ab-9154-ed13567914f5-c000.snappy.parquet</td><td>part-00000-0825c241-9cb9-49ab-9154-ed13567914f5-c000.snappy.parquet</td><td>1674</td></tr><tr><td>dbfs:/saida/part-00000-10abd6e6-945f-43cc-834a-55bafef33db6-c000.snappy.parquet</td><td>part-00000-10abd6e6-945f-43cc-834a-55bafef33db6-c000.snappy.parquet</td><td>1868</td></tr><tr><td>dbfs:/saida/part-00000-1f952a03-5d02-4826-92b3-c3620ee435a8-c000.snappy.parquet</td><td>part-00000-1f952a03-5d02-4826-92b3-c3620ee435a8-c000.snappy.parquet</td><td>1829</td></tr><tr><td>dbfs:/saida/part-00000-4727ade8-5a7d-46c7-ae91-d16f19c4c06c-c000.snappy.parquet</td><td>part-00000-4727ade8-5a7d-46c7-ae91-d16f19c4c06c-c000.snappy.parquet</td><td>1824</td></tr><tr><td>dbfs:/saida/part-00000-60896883-83bb-4626-ad71-4921300ed9c1-c000.snappy.parquet</td><td>part-00000-60896883-83bb-4626-ad71-4921300ed9c1-c000.snappy.parquet</td><td>1712</td></tr><tr><td>dbfs:/saida/part-00000-68fb181b-fbc9-4a96-8413-b5f1f01df6f5-c000.snappy.parquet</td><td>part-00000-68fb181b-fbc9-4a96-8413-b5f1f01df6f5-c000.snappy.parquet</td><td>2031</td></tr><tr><td>dbfs:/saida/part-00000-79a6360b-a355-420c-9307-c8e145f08367-c000.snappy.parquet</td><td>part-00000-79a6360b-a355-420c-9307-c8e145f08367-c000.snappy.parquet</td><td>1829</td></tr><tr><td>dbfs:/saida/part-00000-9e0e530d-2a69-4ee3-ad0f-875812f8ad16-c000.snappy.parquet</td><td>part-00000-9e0e530d-2a69-4ee3-ad0f-875812f8ad16-c000.snappy.parquet</td><td>1684</td></tr><tr><td>dbfs:/saida/part-00000-c4c9abd0-56a2-49d3-a8f6-4aef711f0857-c000.snappy.parquet</td><td>part-00000-c4c9abd0-56a2-49d3-a8f6-4aef711f0857-c000.snappy.parquet</td><td>1829</td></tr><tr><td>dbfs:/saida/part-00000-ddd655b0-2e01-4d9a-bc98-75d932846c80-c000.snappy.parquet</td><td>part-00000-ddd655b0-2e01-4d9a-bc98-75d932846c80-c000.snappy.parquet</td><td>1829</td></tr><tr><td>dbfs:/saida/part-00000-f553dc9f-b5b8-4a8b-a25b-e17cf026afaa-c000.snappy.parquet</td><td>part-00000-f553dc9f-b5b8-4a8b-a25b-e17cf026afaa-c000.snappy.parquet</td><td>2012</td></tr><tr><td>dbfs:/saida/part-00000-fdfa9f13-b331-442b-9376-8126f28fe83d-c000.snappy.parquet</td><td>part-00000-fdfa9f13-b331-442b-9376-8126f28fe83d-c000.snappy.parquet</td><td>1681</td></tr></tbody></table></div>"
      ]
     },
     "metadata": {},
     "output_type": "display_data"
    }
   ],
   "source": [
    "%fs ls /saida"
   ]
  },
  {
   "cell_type": "code",
   "execution_count": 36,
   "metadata": {},
   "outputs": [
    {
     "data": {
      "text/html": [
       "<style scoped>\n",
       "  .ansiout {\n",
       "    display: block;\n",
       "    unicode-bidi: embed;\n",
       "    white-space: pre-wrap;\n",
       "    word-wrap: break-word;\n",
       "    word-break: break-all;\n",
       "    font-family: \"Source Code Pro\", \"Menlo\", monospace;;\n",
       "    font-size: 13px;\n",
       "    color: #555;\n",
       "    margin-left: 4px;\n",
       "    line-height: 19px;\n",
       "  }\n",
       "</style>\n",
       "<div class=\"ansiout\">res4: Boolean = true\n",
       "</div>"
      ]
     },
     "metadata": {},
     "output_type": "display_data"
    }
   ],
   "source": [
    "%fs rm -r /saida/_spark_metadata"
   ]
  },
  {
   "cell_type": "code",
   "execution_count": 37,
   "metadata": {},
   "outputs": [
    {
     "data": {
      "text/html": [
       "<style scoped>\n",
       "  .table-result-container {\n",
       "    max-height: 300px;\n",
       "    overflow: auto;\n",
       "  }\n",
       "  table, th, td {\n",
       "    border: 1px solid black;\n",
       "    border-collapse: collapse;\n",
       "  }\n",
       "  th, td {\n",
       "    padding: 5px;\n",
       "  }\n",
       "  th {\n",
       "    text-align: left;\n",
       "  }\n",
       "</style><div class='table-result-container'><table class='table-result'><thead style='background-color: white'><tr><th>key</th><th>value</th></tr></thead><tbody><tr><td>null</td><td>{\"created_at\":\"2019-01-06T16:20:27.000Z\",\"order_id\":\"0013fc5c-4c10-4402-886c-1b8166e4632e\",\"status_id\":\"d0a3ffd5-4e48-4cc4-9739-d5764678c19f\",\"value\":\"CONCLUDED\"}</td></tr><tr><td>null</td><td>{\"created_at\":\"2019-01-05T21:40:22.000Z\",\"order_id\":\"001a3efd-debc-414e-83ca-e7ba6945aed6\",\"status_id\":\"59ed8c63-41c2-4bc7-acdd-de7ce85e0cf3\",\"value\":\"CONCLUDED\"}</td></tr><tr><td>null</td><td>{\"created_at\":\"2019-01-05T19:38:32.000Z\",\"order_id\":\"001a3efd-debc-414e-83ca-e7ba6945aed6\",\"status_id\":\"b06594e2-76a8-4e0b-b3bc-526145e86e64\",\"value\":\"PLACED\"}</td></tr><tr><td>null</td><td>{\"created_at\":\"2019-01-05T19:38:31.000Z\",\"order_id\":\"001a3efd-debc-414e-83ca-e7ba6945aed6\",\"status_id\":\"259d7d3f-9a24-4f4f-b7d0-df5b333707ad\",\"value\":\"REGISTERED\"}</td></tr><tr><td>null</td><td>{\"created_at\":\"2019-01-30T04:00:07.000Z\",\"order_id\":\"001d98c0-2741-472d-a2bc-16b5cee1a0e1\",\"status_id\":\"dd7356e0-2a11-4053-ab35-a4b077fcd24a\",\"value\":\"CONCLUDED\"}</td></tr><tr><td>null</td><td>{\"created_at\":\"2019-01-30T01:59:31.000Z\",\"order_id\":\"001d98c0-2741-472d-a2bc-16b5cee1a0e1\",\"status_id\":\"803b899c-8249-4064-9fc4-51845630b76b\",\"value\":\"REGISTERED\"}</td></tr><tr><td>null</td><td>{\"created_at\":\"2019-01-30T01:59:32.000Z\",\"order_id\":\"001d98c0-2741-472d-a2bc-16b5cee1a0e1\",\"status_id\":\"0df5ba65-cb07-44c7-8715-f83ed6cb1f33\",\"value\":\"PLACED\"}</td></tr><tr><td>null</td><td>{\"created_at\":\"2019-01-16T00:07:50.000Z\",\"order_id\":\"001f93c8-5228-4085-9909-32a855c02a98\",\"status_id\":\"39fd2072-2269-4c98-b21c-fb4f93b197ee\",\"value\":\"PLACED\"}</td></tr><tr><td>null</td><td>{\"created_at\":\"2019-01-16T00:07:49.000Z\",\"order_id\":\"001f93c8-5228-4085-9909-32a855c02a98\",\"status_id\":\"7a02de81-1999-488b-b0aa-eb49850570ba\",\"value\":\"REGISTERED\"}</td></tr><tr><td>null</td><td>{\"created_at\":\"2019-01-16T02:10:10.000Z\",\"order_id\":\"001f93c8-5228-4085-9909-32a855c02a98\",\"status_id\":\"71956d3b-4d9d-44b4-91ff-6686813c7084\",\"value\":\"CONCLUDED\"}</td></tr><tr><td>null</td><td>{\"created_at\":\"2019-01-30T04:00:07.000Z\",\"order_id\":\"0045528c-7367-47b6-8710-e595be901485\",\"status_id\":\"abcf94ea-7af1-469a-98ad-e2026d67f20e\",\"value\":\"CONCLUDED\"}</td></tr><tr><td>null</td><td>{\"created_at\":\"2019-01-30T01:59:21.000Z\",\"order_id\":\"0045528c-7367-47b6-8710-e595be901485\",\"status_id\":\"95295251-1013-47d3-a18f-dc9c5c5a4416\",\"value\":\"PLACED\"}</td></tr><tr><td>null</td><td>{\"created_at\":\"2019-01-31T16:05:19.000Z\",\"order_id\":\"0046c16e-a65b-4354-a959-5da6677ee1f9\",\"status_id\":\"f7860eb0-484a-42dc-a30f-9b238e438814\",\"value\":\"CONCLUDED\"}</td></tr><tr><td>null</td><td>{\"created_at\":\"2019-01-31T14:04:27.000Z\",\"order_id\":\"0046c16e-a65b-4354-a959-5da6677ee1f9\",\"status_id\":\"6dcde148-58b8-48ea-88bf-ff96251570db\",\"value\":\"PLACED\"}</td></tr><tr><td>null</td><td>{\"created_at\":\"2019-01-31T14:04:26.000Z\",\"order_id\":\"0046c16e-a65b-4354-a959-5da6677ee1f9\",\"status_id\":\"10fea2e4-18c6-42c8-a340-4d50bfe4a5ce\",\"value\":\"REGISTERED\"}</td></tr><tr><td>null</td><td>{\"created_at\":\"2019-01-01T21:15:23.000Z\",\"order_id\":\"004a9803-0e71-4c9a-824a-58729bda2731\",\"status_id\":\"90ae747b-442f-476c-8417-37a8e7f3eb8a\",\"value\":\"REGISTERED\"}</td></tr><tr><td>null</td><td>{\"created_at\":\"2019-01-01T23:20:13.000Z\",\"order_id\":\"004a9803-0e71-4c9a-824a-58729bda2731\",\"status_id\":\"9b1a3daa-5c69-4e7c-943f-13ff0e7f57aa\",\"value\":\"CONCLUDED\"}</td></tr><tr><td>null</td><td>{\"created_at\":\"2019-01-01T21:15:24.000Z\",\"order_id\":\"004a9803-0e71-4c9a-824a-58729bda2731\",\"status_id\":\"e4f23f50-9b58-40bd-9bf8-bc6c0ae69b27\",\"value\":\"PLACED\"}</td></tr><tr><td>null</td><td>{\"created_at\":\"2019-01-28T19:55:02.000Z\",\"order_id\":\"004e2a3d-92d8-4922-9667-b509781b927a\",\"status_id\":\"9b7d2141-19d2-4b8a-b070-bf585fc76e37\",\"value\":\"CONCLUDED\"}</td></tr><tr><td>null</td><td>{\"created_at\":\"2019-01-28T19:55:02.000Z\",\"order_id\":\"004e2a3d-92d8-4922-9667-b509781b927a\",\"status_id\":\"9b7d2141-19d2-4b8a-b070-bf585fc76e37\",\"value\":\"CONCLUDED\"}</td></tr><tr><td>null</td><td>{\"created_at\":\"2019-01-25T01:05:07.000Z\",\"order_id\":\"0002fe02-d7dc-4232-b7ac-3394019ce240\",\"status_id\":\"b4298862-fa38-499a-93e2-a76930fb2bce\",\"value\":\"CONCLUDED\"}</td></tr><tr><td>null</td><td>{\"created_at\":\"2019-01-24T23:04:27.000Z\",\"order_id\":\"0002fe02-d7dc-4232-b7ac-3394019ce240\",\"status_id\":\"7964bf63-007a-484d-a321-e9118ccc2f97\",\"value\":\"REGISTERED\"}</td></tr><tr><td>null</td><td>{\"created_at\":\"2019-01-24T23:04:28.000Z\",\"order_id\":\"0002fe02-d7dc-4232-b7ac-3394019ce240\",\"status_id\":\"ca16b92b-db8f-4274-b165-929675541a9f\",\"value\":\"PLACED\"}</td></tr><tr><td>null</td><td>{\"created_at\":\"2019-01-18T00:45:02.000Z\",\"order_id\":\"000cef8c-83c7-49eb-a0fb-404e6dc2150e\",\"status_id\":\"bf43cc29-c3c1-4f3a-9a6c-deb902ca286c\",\"value\":\"CONCLUDED\"}</td></tr><tr><td>null</td><td>{\"created_at\":\"2019-01-18T00:45:02.000Z\",\"order_id\":\"000cef8c-83c7-49eb-a0fb-404e6dc2150e\",\"status_id\":\"bf43cc29-c3c1-4f3a-9a6c-deb902ca286c\",\"value\":\"CONCLUDED\"}</td></tr><tr><td>null</td><td>{\"created_at\":\"2019-01-17T22:42:18.000Z\",\"order_id\":\"000cef8c-83c7-49eb-a0fb-404e6dc2150e\",\"status_id\":\"6edee034-b55b-407a-b114-eb9a475ae52a\",\"value\":\"PLACED\"}</td></tr><tr><td>null</td><td>{\"created_at\":\"2019-01-17T22:42:18.000Z\",\"order_id\":\"000cef8c-83c7-49eb-a0fb-404e6dc2150e\",\"status_id\":\"6edee034-b55b-407a-b114-eb9a475ae52a\",\"value\":\"PLACED\"}</td></tr><tr><td>null</td><td>{\"created_at\":\"2019-01-17T22:42:17.000Z\",\"order_id\":\"000cef8c-83c7-49eb-a0fb-404e6dc2150e\",\"status_id\":\"789b58d3-ea95-4b12-af62-69ebcfe71f12\",\"value\":\"REGISTERED\"}</td></tr><tr><td>null</td><td>{\"created_at\":\"2019-01-17T22:42:17.000Z\",\"order_id\":\"000cef8c-83c7-49eb-a0fb-404e6dc2150e\",\"status_id\":\"789b58d3-ea95-4b12-af62-69ebcfe71f12\",\"value\":\"REGISTERED\"}</td></tr><tr><td>null</td><td>{\"created_at\":\"2019-01-01T22:11:21.000Z\",\"order_id\":\"0010995b-9212-455a-85ea-11ea7dd526c1\",\"status_id\":\"971142e1-bfa9-4412-ba5b-3f5ff53a6c4e\",\"value\":\"REGISTERED\"}</td></tr><tr><td>null</td><td>{\"created_at\":\"2019-01-21T01:28:37.000Z\",\"order_id\":\"0059e747-bcdb-40b4-a5b7-ebb26780b97c\",\"status_id\":\"ab1ae1e8-cf6a-4633-bc92-ab5eaba07296\",\"value\":\"REGISTERED\"}</td></tr><tr><td>null</td><td>{\"created_at\":\"2019-01-21T01:28:37.000Z\",\"order_id\":\"0059e747-bcdb-40b4-a5b7-ebb26780b97c\",\"status_id\":\"ab1ae1e8-cf6a-4633-bc92-ab5eaba07296\",\"value\":\"REGISTERED\"}</td></tr><tr><td>null</td><td>{\"created_at\":\"2019-01-21T01:28:38.000Z\",\"order_id\":\"0059e747-bcdb-40b4-a5b7-ebb26780b97c\",\"status_id\":\"a0dcc6e5-2f1a-47e4-b25a-cbc7067f8db5\",\"value\":\"PLACED\"}</td></tr><tr><td>null</td><td>{\"created_at\":\"2019-01-21T01:28:38.000Z\",\"order_id\":\"0059e747-bcdb-40b4-a5b7-ebb26780b97c\",\"status_id\":\"a0dcc6e5-2f1a-47e4-b25a-cbc7067f8db5\",\"value\":\"PLACED\"}</td></tr><tr><td>null</td><td>{\"created_at\":\"2019-01-21T03:30:03.000Z\",\"order_id\":\"0059e747-bcdb-40b4-a5b7-ebb26780b97c\",\"status_id\":\"a55365ba-0563-4f0e-9c37-a087e407bd1f\",\"value\":\"CONCLUDED\"}</td></tr><tr><td>null</td><td>{\"created_at\":\"2019-01-21T03:30:03.000Z\",\"order_id\":\"0059e747-bcdb-40b4-a5b7-ebb26780b97c\",\"status_id\":\"a55365ba-0563-4f0e-9c37-a087e407bd1f\",\"value\":\"CONCLUDED\"}</td></tr><tr><td>null</td><td>{\"created_at\":\"2019-01-04T22:59:07.000Z\",\"order_id\":\"005c7f68-ca82-4d41-949a-38ba00fbc6bd\",\"status_id\":\"6066b66a-3530-4a83-9ac1-d3a1bdcd4967\",\"value\":\"REGISTERED\"}</td></tr><tr><td>null</td><td>{\"created_at\":\"2019-01-04T22:59:08.000Z\",\"order_id\":\"005c7f68-ca82-4d41-949a-38ba00fbc6bd\",\"status_id\":\"acb790b4-9ee0-480a-a6d6-bc880c01cdfe\",\"value\":\"PLACED\"}</td></tr><tr><td>null</td><td>{\"created_at\":\"2019-01-05T01:00:11.000Z\",\"order_id\":\"005c7f68-ca82-4d41-949a-38ba00fbc6bd\",\"status_id\":\"4c7c3ed0-9e86-407c-9344-a2defecd7084\",\"value\":\"CONCLUDED\"}</td></tr><tr><td>null</td><td>{\"created_at\":\"2019-01-21T22:55:01.000Z\",\"order_id\":\"005f22fc-81e0-47ab-8aec-2d9bafcb4bbe\",\"status_id\":\"feebb965-84f3-4310-a7c5-8eba63fda4ca\",\"value\":\"CONCLUDED\"}</td></tr><tr><td>null</td><td>{\"created_at\":\"2019-01-02T00:15:14.000Z\",\"order_id\":\"0010995b-9212-455a-85ea-11ea7dd526c1\",\"status_id\":\"ccadfe99-b614-412d-81f2-863a006ab087\",\"value\":\"CONCLUDED\"}</td></tr><tr><td>null</td><td>{\"created_at\":\"2019-01-01T22:11:22.000Z\",\"order_id\":\"0010995b-9212-455a-85ea-11ea7dd526c1\",\"status_id\":\"af298256-87a8-4f8c-b89d-02229c795015\",\"value\":\"PLACED\"}</td></tr><tr><td>null</td><td>{\"created_at\":\"2019-01-03T18:12:23.000Z\",\"order_id\":\"0012d95c-9c4b-4244-86b5-dcf87677dcc1\",\"status_id\":\"e5791af8-fa08-4333-8487-194be9fcfc4f\",\"value\":\"REGISTERED\"}</td></tr><tr><td>null</td><td>{\"created_at\":\"2019-01-03T18:12:23.000Z\",\"order_id\":\"0012d95c-9c4b-4244-86b5-dcf87677dcc1\",\"status_id\":\"e5791af8-fa08-4333-8487-194be9fcfc4f\",\"value\":\"REGISTERED\"}</td></tr><tr><td>null</td><td>{\"created_at\":\"2019-01-03T18:12:24.000Z\",\"order_id\":\"0012d95c-9c4b-4244-86b5-dcf87677dcc1\",\"status_id\":\"09290ae8-0f8e-4ac4-b20c-ad1aa25ec81a\",\"value\":\"PLACED\"}</td></tr><tr><td>null</td><td>{\"created_at\":\"2019-01-03T18:12:24.000Z\",\"order_id\":\"0012d95c-9c4b-4244-86b5-dcf87677dcc1\",\"status_id\":\"09290ae8-0f8e-4ac4-b20c-ad1aa25ec81a\",\"value\":\"PLACED\"}</td></tr><tr><td>null</td><td>{\"created_at\":\"2019-01-03T20:15:06.000Z\",\"order_id\":\"0012d95c-9c4b-4244-86b5-dcf87677dcc1\",\"status_id\":\"c8058ba4-1d1c-4a1f-8401-a7042ef6ba85\",\"value\":\"CONCLUDED\"}</td></tr><tr><td>null</td><td>{\"created_at\":\"2019-01-03T20:15:06.000Z\",\"order_id\":\"0012d95c-9c4b-4244-86b5-dcf87677dcc1\",\"status_id\":\"c8058ba4-1d1c-4a1f-8401-a7042ef6ba85\",\"value\":\"CONCLUDED\"}</td></tr><tr><td>null</td><td>{\"created_at\":\"2019-01-06T14:16:18.000Z\",\"order_id\":\"0013fc5c-4c10-4402-886c-1b8166e4632e\",\"status_id\":\"28c9300a-d2ce-4450-9a2c-d866be585106\",\"value\":\"PLACED\"}</td></tr><tr><td>null</td><td>{\"created_at\":\"2019-01-06T14:16:17.000Z\",\"order_id\":\"0013fc5c-4c10-4402-886c-1b8166e4632e\",\"status_id\":\"6b36c2fc-cbb5-4bd5-8ce7-7686de612518\",\"value\":\"REGISTERED\"}</td></tr><tr><td>null</td><td>{\"created_at\":\"2019-01-21T01:28:37.000Z\",\"order_id\":\"0059e747-bcdb-40b4-a5b7-ebb26780b97c\",\"status_id\":\"ab1ae1e8-cf6a-4633-bc92-ab5eaba07296\",\"value\":\"REGISTERED\"}</td></tr><tr><td>null</td><td>{\"created_at\":\"2019-01-21T01:28:37.000Z\",\"order_id\":\"0059e747-bcdb-40b4-a5b7-ebb26780b97c\",\"status_id\":\"ab1ae1e8-cf6a-4633-bc92-ab5eaba07296\",\"value\":\"REGISTERED\"}</td></tr><tr><td>null</td><td>{\"created_at\":\"2019-01-21T01:28:38.000Z\",\"order_id\":\"0059e747-bcdb-40b4-a5b7-ebb26780b97c\",\"status_id\":\"a0dcc6e5-2f1a-47e4-b25a-cbc7067f8db5\",\"value\":\"PLACED\"}</td></tr><tr><td>null</td><td>{\"created_at\":\"2019-01-21T01:28:38.000Z\",\"order_id\":\"0059e747-bcdb-40b4-a5b7-ebb26780b97c\",\"status_id\":\"a0dcc6e5-2f1a-47e4-b25a-cbc7067f8db5\",\"value\":\"PLACED\"}</td></tr><tr><td>null</td><td>{\"created_at\":\"2019-01-21T03:30:03.000Z\",\"order_id\":\"0059e747-bcdb-40b4-a5b7-ebb26780b97c\",\"status_id\":\"a55365ba-0563-4f0e-9c37-a087e407bd1f\",\"value\":\"CONCLUDED\"}</td></tr><tr><td>null</td><td>{\"created_at\":\"2019-01-21T03:30:03.000Z\",\"order_id\":\"0059e747-bcdb-40b4-a5b7-ebb26780b97c\",\"status_id\":\"a55365ba-0563-4f0e-9c37-a087e407bd1f\",\"value\":\"CONCLUDED\"}</td></tr><tr><td>null</td><td>{\"created_at\":\"2019-01-04T22:59:07.000Z\",\"order_id\":\"005c7f68-ca82-4d41-949a-38ba00fbc6bd\",\"status_id\":\"6066b66a-3530-4a83-9ac1-d3a1bdcd4967\",\"value\":\"REGISTERED\"}</td></tr><tr><td>null</td><td>{\"created_at\":\"2019-01-04T22:59:08.000Z\",\"order_id\":\"005c7f68-ca82-4d41-949a-38ba00fbc6bd\",\"status_id\":\"acb790b4-9ee0-480a-a6d6-bc880c01cdfe\",\"value\":\"PLACED\"}</td></tr><tr><td>null</td><td>{\"created_at\":\"2019-01-05T01:00:11.000Z\",\"order_id\":\"005c7f68-ca82-4d41-949a-38ba00fbc6bd\",\"status_id\":\"4c7c3ed0-9e86-407c-9344-a2defecd7084\",\"value\":\"CONCLUDED\"}</td></tr><tr><td>null</td><td>{\"created_at\":\"2019-01-21T22:55:01.000Z\",\"order_id\":\"005f22fc-81e0-47ab-8aec-2d9bafcb4bbe\",\"status_id\":\"feebb965-84f3-4310-a7c5-8eba63fda4ca\",\"value\":\"CONCLUDED\"}</td></tr><tr><td>null</td><td>{\"created_at\":\"2019-01-21T01:28:37.000Z\",\"order_id\":\"0059e747-bcdb-40b4-a5b7-ebb26780b97c\",\"status_id\":\"ab1ae1e8-cf6a-4633-bc92-ab5eaba07296\",\"value\":\"REGISTERED\"}</td></tr><tr><td>null</td><td>{\"created_at\":\"2019-01-21T01:28:37.000Z\",\"order_id\":\"0059e747-bcdb-40b4-a5b7-ebb26780b97c\",\"status_id\":\"ab1ae1e8-cf6a-4633-bc92-ab5eaba07296\",\"value\":\"REGISTERED\"}</td></tr><tr><td>null</td><td>{\"created_at\":\"2019-01-21T01:28:38.000Z\",\"order_id\":\"0059e747-bcdb-40b4-a5b7-ebb26780b97c\",\"status_id\":\"a0dcc6e5-2f1a-47e4-b25a-cbc7067f8db5\",\"value\":\"PLACED\"}</td></tr><tr><td>null</td><td>{\"created_at\":\"2019-01-21T01:28:38.000Z\",\"order_id\":\"0059e747-bcdb-40b4-a5b7-ebb26780b97c\",\"status_id\":\"a0dcc6e5-2f1a-47e4-b25a-cbc7067f8db5\",\"value\":\"PLACED\"}</td></tr><tr><td>null</td><td>{\"created_at\":\"2019-01-21T03:30:03.000Z\",\"order_id\":\"0059e747-bcdb-40b4-a5b7-ebb26780b97c\",\"status_id\":\"a55365ba-0563-4f0e-9c37-a087e407bd1f\",\"value\":\"CONCLUDED\"}</td></tr><tr><td>null</td><td>{\"created_at\":\"2019-01-21T03:30:03.000Z\",\"order_id\":\"0059e747-bcdb-40b4-a5b7-ebb26780b97c\",\"status_id\":\"a55365ba-0563-4f0e-9c37-a087e407bd1f\",\"value\":\"CONCLUDED\"}</td></tr><tr><td>null</td><td>{\"created_at\":\"2019-01-04T22:59:07.000Z\",\"order_id\":\"005c7f68-ca82-4d41-949a-38ba00fbc6bd\",\"status_id\":\"6066b66a-3530-4a83-9ac1-d3a1bdcd4967\",\"value\":\"REGISTERED\"}</td></tr><tr><td>null</td><td>{\"created_at\":\"2019-01-04T22:59:08.000Z\",\"order_id\":\"005c7f68-ca82-4d41-949a-38ba00fbc6bd\",\"status_id\":\"acb790b4-9ee0-480a-a6d6-bc880c01cdfe\",\"value\":\"PLACED\"}</td></tr><tr><td>null</td><td>{\"created_at\":\"2019-01-05T01:00:11.000Z\",\"order_id\":\"005c7f68-ca82-4d41-949a-38ba00fbc6bd\",\"status_id\":\"4c7c3ed0-9e86-407c-9344-a2defecd7084\",\"value\":\"CONCLUDED\"}</td></tr><tr><td>null</td><td>{\"created_at\":\"2019-01-21T22:55:01.000Z\",\"order_id\":\"005f22fc-81e0-47ab-8aec-2d9bafcb4bbe\",\"status_id\":\"feebb965-84f3-4310-a7c5-8eba63fda4ca\",\"value\":\"CONCLUDED\"}</td></tr><tr><td>null</td><td>{\"created_at\":\"2019-01-28T00:15:06.000Z\",\"order_id\":\"003ef7cc-0e0e-4086-83ef-a4200938aaf1\",\"status_id\":\"93d7fbe6-bb0f-489f-96dc-b22b54db1369\",\"value\":\"CONCLUDED\"}</td></tr><tr><td>null</td><td>{\"created_at\":\"2019-01-27T22:11:34.000Z\",\"order_id\":\"003ef7cc-0e0e-4086-83ef-a4200938aaf1\",\"status_id\":\"04e89424-d832-4c0d-82f6-9a4bc48b5871\",\"value\":\"PLACED\"}</td></tr><tr><td>null</td><td>{\"created_at\":\"2019-01-27T22:11:33.000Z\",\"order_id\":\"003ef7cc-0e0e-4086-83ef-a4200938aaf1\",\"status_id\":\"29d24bf6-fdfd-4391-a157-93f6c0ab0728\",\"value\":\"REGISTERED\"}</td></tr><tr><td>null</td><td>{\"created_at\":\"2019-01-28T21:52:53.000Z\",\"order_id\":\"00412ff8-a367-49a9-a1cb-94af8beab4bb\",\"status_id\":\"7d36d080-fda8-410a-989c-83a2e3851390\",\"value\":\"REGISTERED\"}</td></tr><tr><td>null</td><td>{\"created_at\":\"2019-01-28T21:52:53.000Z\",\"order_id\":\"00412ff8-a367-49a9-a1cb-94af8beab4bb\",\"status_id\":\"7d36d080-fda8-410a-989c-83a2e3851390\",\"value\":\"REGISTERED\"}</td></tr><tr><td>null</td><td>{\"created_at\":\"2019-01-28T23:55:03.000Z\",\"order_id\":\"00412ff8-a367-49a9-a1cb-94af8beab4bb\",\"status_id\":\"0dfddf65-a55b-442b-87c6-5030edd9b9b0\",\"value\":\"CONCLUDED\"}</td></tr><tr><td>null</td><td>{\"created_at\":\"2019-01-28T23:55:03.000Z\",\"order_id\":\"00412ff8-a367-49a9-a1cb-94af8beab4bb\",\"status_id\":\"0dfddf65-a55b-442b-87c6-5030edd9b9b0\",\"value\":\"CONCLUDED\"}</td></tr><tr><td>null</td><td>{\"created_at\":\"2019-01-28T21:52:54.000Z\",\"order_id\":\"00412ff8-a367-49a9-a1cb-94af8beab4bb\",\"status_id\":\"321bc7d4-4392-4aa5-a95b-e48969058d30\",\"value\":\"PLACED\"}</td></tr><tr><td>null</td><td>{\"created_at\":\"2019-01-28T21:52:54.000Z\",\"order_id\":\"00412ff8-a367-49a9-a1cb-94af8beab4bb\",\"status_id\":\"321bc7d4-4392-4aa5-a95b-e48969058d30\",\"value\":\"PLACED\"}</td></tr><tr><td>null</td><td>{\"created_at\":\"2019-01-30T01:59:20.000Z\",\"order_id\":\"0045528c-7367-47b6-8710-e595be901485\",\"status_id\":\"271a99cc-1be4-4969-a16c-225abf18eb37\",\"value\":\"REGISTERED\"}</td></tr><tr><td>null</td><td>{\"created_at\":\"2019-01-21T20:17:55.000Z\",\"order_id\":\"00273652-efc8-4e7c-95b2-cd3827900e7e\",\"status_id\":\"ac5f5d3b-c89b-4b06-a9e1-473e491797cc\",\"value\":\"PLACED\"}</td></tr><tr><td>null</td><td>{\"created_at\":\"2019-01-21T20:17:55.000Z\",\"order_id\":\"00273652-efc8-4e7c-95b2-cd3827900e7e\",\"status_id\":\"ac5f5d3b-c89b-4b06-a9e1-473e491797cc\",\"value\":\"PLACED\"}</td></tr><tr><td>null</td><td>{\"created_at\":\"2019-01-15T21:40:10.000Z\",\"order_id\":\"002f9606-8745-43d6-8705-33dfc1ad634f\",\"status_id\":\"4808a7f5-1cd5-4515-8f6a-5827ed3b96f6\",\"value\":\"REGISTERED\"}</td></tr><tr><td>null</td><td>{\"created_at\":\"2019-01-15T21:40:10.000Z\",\"order_id\":\"002f9606-8745-43d6-8705-33dfc1ad634f\",\"status_id\":\"4808a7f5-1cd5-4515-8f6a-5827ed3b96f6\",\"value\":\"REGISTERED\"}</td></tr><tr><td>null</td><td>{\"created_at\":\"2019-01-15T23:45:02.000Z\",\"order_id\":\"002f9606-8745-43d6-8705-33dfc1ad634f\",\"status_id\":\"96ec6660-a2a3-45ab-b1b7-127cb1aa9d4b\",\"value\":\"CONCLUDED\"}</td></tr><tr><td>null</td><td>{\"created_at\":\"2019-01-15T23:45:02.000Z\",\"order_id\":\"002f9606-8745-43d6-8705-33dfc1ad634f\",\"status_id\":\"96ec6660-a2a3-45ab-b1b7-127cb1aa9d4b\",\"value\":\"CONCLUDED\"}</td></tr><tr><td>null</td><td>{\"created_at\":\"2019-01-15T21:40:11.000Z\",\"order_id\":\"002f9606-8745-43d6-8705-33dfc1ad634f\",\"status_id\":\"73a1a5aa-a755-4b3b-947c-96f43211b03e\",\"value\":\"PLACED\"}</td></tr><tr><td>null</td><td>{\"created_at\":\"2019-01-15T21:40:11.000Z\",\"order_id\":\"002f9606-8745-43d6-8705-33dfc1ad634f\",\"status_id\":\"73a1a5aa-a755-4b3b-947c-96f43211b03e\",\"value\":\"PLACED\"}</td></tr><tr><td>null</td><td>{\"created_at\":\"2019-01-15T00:44:05.000Z\",\"order_id\":\"0035c4ce-c00a-42f3-adeb-c6f0bc08e1e7\",\"status_id\":\"2aa33a0e-0dc1-4be7-9976-754ece18e44b\",\"value\":\"PLACED\"}</td></tr><tr><td>null</td><td>{\"created_at\":\"2019-01-15T00:44:05.000Z\",\"order_id\":\"0035c4ce-c00a-42f3-adeb-c6f0bc08e1e7\",\"status_id\":\"2aa33a0e-0dc1-4be7-9976-754ece18e44b\",\"value\":\"PLACED\"}</td></tr><tr><td>null</td><td>{\"created_at\":\"2019-01-28T17:53:47.000Z\",\"order_id\":\"004e2a3d-92d8-4922-9667-b509781b927a\",\"status_id\":\"37aa0d9d-2c21-46ac-9ca4-a4cccfd2f6bd\",\"value\":\"PLACED\"}</td></tr><tr><td>null</td><td>{\"created_at\":\"2019-01-28T17:53:47.000Z\",\"order_id\":\"004e2a3d-92d8-4922-9667-b509781b927a\",\"status_id\":\"37aa0d9d-2c21-46ac-9ca4-a4cccfd2f6bd\",\"value\":\"PLACED\"}</td></tr><tr><td>null</td><td>{\"created_at\":\"2019-01-28T17:53:46.000Z\",\"order_id\":\"004e2a3d-92d8-4922-9667-b509781b927a\",\"status_id\":\"3e15b09a-336e-440c-ac35-a4ee3d8c18a0\",\"value\":\"REGISTERED\"}</td></tr><tr><td>null</td><td>{\"created_at\":\"2019-01-28T17:53:46.000Z\",\"order_id\":\"004e2a3d-92d8-4922-9667-b509781b927a\",\"status_id\":\"3e15b09a-336e-440c-ac35-a4ee3d8c18a0\",\"value\":\"REGISTERED\"}</td></tr><tr><td>null</td><td>{\"created_at\":\"2019-01-09T15:56:56.000Z\",\"order_id\":\"00546340-734b-47c9-9369-e4cf0bd03e7b\",\"status_id\":\"b712400c-3339-4a36-99d7-741442ee21c2\",\"value\":\"REGISTERED\"}</td></tr><tr><td>null</td><td>{\"created_at\":\"2019-01-09T15:56:56.000Z\",\"order_id\":\"00546340-734b-47c9-9369-e4cf0bd03e7b\",\"status_id\":\"b712400c-3339-4a36-99d7-741442ee21c2\",\"value\":\"REGISTERED\"}</td></tr><tr><td>null</td><td>{\"created_at\":\"2019-01-09T15:56:57.000Z\",\"order_id\":\"00546340-734b-47c9-9369-e4cf0bd03e7b\",\"status_id\":\"2577c10f-f863-43c4-a778-15b253f45f5f\",\"value\":\"PLACED\"}</td></tr><tr><td>null</td><td>{\"created_at\":\"2019-01-09T15:56:57.000Z\",\"order_id\":\"00546340-734b-47c9-9369-e4cf0bd03e7b\",\"status_id\":\"2577c10f-f863-43c4-a778-15b253f45f5f\",\"value\":\"PLACED\"}</td></tr><tr><td>null</td><td>{\"created_at\":\"2019-01-09T18:00:02.000Z\",\"order_id\":\"00546340-734b-47c9-9369-e4cf0bd03e7b\",\"status_id\":\"ac52d1bd-2db0-44c7-9b8f-6d1ec9de42f5\",\"value\":\"CONCLUDED\"}</td></tr><tr><td>null</td><td>{\"created_at\":\"2019-01-09T18:00:02.000Z\",\"order_id\":\"00546340-734b-47c9-9369-e4cf0bd03e7b\",\"status_id\":\"ac52d1bd-2db0-44c7-9b8f-6d1ec9de42f5\",\"value\":\"CONCLUDED\"}</td></tr><tr><td>null</td><td>{\"created_at\":\"2019-01-15T02:45:03.000Z\",\"order_id\":\"0035c4ce-c00a-42f3-adeb-c6f0bc08e1e7\",\"status_id\":\"8ccac6f0-5d40-4946-bce1-d59d49525c68\",\"value\":\"CONCLUDED\"}</td></tr><tr><td>null</td><td>{\"created_at\":\"2019-01-15T02:45:03.000Z\",\"order_id\":\"0035c4ce-c00a-42f3-adeb-c6f0bc08e1e7\",\"status_id\":\"8ccac6f0-5d40-4946-bce1-d59d49525c68\",\"value\":\"CONCLUDED\"}</td></tr><tr><td>null</td><td>{\"created_at\":\"2019-01-15T00:44:04.000Z\",\"order_id\":\"0035c4ce-c00a-42f3-adeb-c6f0bc08e1e7\",\"status_id\":\"fca0be9b-de2f-4947-8d7d-8994af765bda\",\"value\":\"REGISTERED\"}</td></tr><tr><td>null</td><td>{\"created_at\":\"2019-01-15T00:44:04.000Z\",\"order_id\":\"0035c4ce-c00a-42f3-adeb-c6f0bc08e1e7\",\"status_id\":\"fca0be9b-de2f-4947-8d7d-8994af765bda\",\"value\":\"REGISTERED\"}</td></tr><tr><td>null</td><td>{\"created_at\":\"2019-01-06T22:35:08.000Z\",\"order_id\":\"003ad088-1d33-4278-9978-1abdf9f9c462\",\"status_id\":\"e3fed445-ba5f-4c52-879f-6f6fd24476c3\",\"value\":\"REGISTERED\"}</td></tr><tr><td>null</td><td>{\"created_at\":\"2019-01-06T22:35:08.000Z\",\"order_id\":\"003ad088-1d33-4278-9978-1abdf9f9c462\",\"status_id\":\"e3fed445-ba5f-4c52-879f-6f6fd24476c3\",\"value\":\"REGISTERED\"}</td></tr><tr><td>null</td><td>{\"created_at\":\"2019-01-07T00:40:02.000Z\",\"order_id\":\"003ad088-1d33-4278-9978-1abdf9f9c462\",\"status_id\":\"dac17945-d526-496c-9b36-6db102773bb7\",\"value\":\"CONCLUDED\"}</td></tr><tr><td>null</td><td>{\"created_at\":\"2019-01-07T00:40:02.000Z\",\"order_id\":\"003ad088-1d33-4278-9978-1abdf9f9c462\",\"status_id\":\"dac17945-d526-496c-9b36-6db102773bb7\",\"value\":\"CONCLUDED\"}</td></tr><tr><td>null</td><td>{\"created_at\":\"2019-01-06T22:35:09.000Z\",\"order_id\":\"003ad088-1d33-4278-9978-1abdf9f9c462\",\"status_id\":\"c3acd2a9-8ec1-4452-aa7d-a3200fd914cb\",\"value\":\"PLACED\"}</td></tr><tr><td>null</td><td>{\"created_at\":\"2019-01-06T22:35:09.000Z\",\"order_id\":\"003ad088-1d33-4278-9978-1abdf9f9c462\",\"status_id\":\"c3acd2a9-8ec1-4452-aa7d-a3200fd914cb\",\"value\":\"PLACED\"}</td></tr><tr><td>null</td><td>{\"created_at\":\"2019-01-03T15:55:12.000Z\",\"order_id\":\"00251da6-aa45-4512-be58-6622a248cdff\",\"status_id\":\"a621de13-5272-4c7c-969c-3bcd53f0515f\",\"value\":\"CONCLUDED\"}</td></tr><tr><td>null</td><td>{\"created_at\":\"2019-01-03T15:55:12.000Z\",\"order_id\":\"00251da6-aa45-4512-be58-6622a248cdff\",\"status_id\":\"a621de13-5272-4c7c-969c-3bcd53f0515f\",\"value\":\"CONCLUDED\"}</td></tr><tr><td>null</td><td>{\"created_at\":\"2019-01-03T13:50:54.000Z\",\"order_id\":\"00251da6-aa45-4512-be58-6622a248cdff\",\"status_id\":\"155ac934-fafa-492f-a74b-d885d94379d3\",\"value\":\"REGISTERED\"}</td></tr><tr><td>null</td><td>{\"created_at\":\"2019-01-03T13:50:54.000Z\",\"order_id\":\"00251da6-aa45-4512-be58-6622a248cdff\",\"status_id\":\"155ac934-fafa-492f-a74b-d885d94379d3\",\"value\":\"REGISTERED\"}</td></tr><tr><td>null</td><td>{\"created_at\":\"2019-01-03T13:50:55.000Z\",\"order_id\":\"00251da6-aa45-4512-be58-6622a248cdff\",\"status_id\":\"ab60616f-ee8b-4204-84b6-c3b60e3bfd23\",\"value\":\"PLACED\"}</td></tr><tr><td>null</td><td>{\"created_at\":\"2019-01-03T13:50:55.000Z\",\"order_id\":\"00251da6-aa45-4512-be58-6622a248cdff\",\"status_id\":\"ab60616f-ee8b-4204-84b6-c3b60e3bfd23\",\"value\":\"PLACED\"}</td></tr><tr><td>null</td><td>{\"created_at\":\"2019-01-21T22:20:02.000Z\",\"order_id\":\"00273652-efc8-4e7c-95b2-cd3827900e7e\",\"status_id\":\"74f8ff33-e731-477f-a698-4755577b80a1\",\"value\":\"CONCLUDED\"}</td></tr><tr><td>null</td><td>{\"created_at\":\"2019-01-21T22:20:02.000Z\",\"order_id\":\"00273652-efc8-4e7c-95b2-cd3827900e7e\",\"status_id\":\"74f8ff33-e731-477f-a698-4755577b80a1\",\"value\":\"CONCLUDED\"}</td></tr><tr><td>null</td><td>{\"created_at\":\"2019-01-21T20:17:54.000Z\",\"order_id\":\"00273652-efc8-4e7c-95b2-cd3827900e7e\",\"status_id\":\"ac143627-f177-446c-885b-3b1025a619ee\",\"value\":\"REGISTERED\"}</td></tr><tr><td>null</td><td>{\"created_at\":\"2019-01-21T20:17:54.000Z\",\"order_id\":\"00273652-efc8-4e7c-95b2-cd3827900e7e\",\"status_id\":\"ac143627-f177-446c-885b-3b1025a619ee\",\"value\":\"REGISTERED\"}</td></tr></tbody></table></div>"
      ]
     },
     "metadata": {},
     "output_type": "display_data"
    }
   ],
   "source": [
    "#carrega os arquivos em um dataframe\n",
    "parquetDF = sqlContext.read.parquet(\"/saida\")\n",
    "\n",
    "display(parquetDF)"
   ]
  },
  {
   "cell_type": "code",
   "execution_count": 38,
   "metadata": {},
   "outputs": [
    {
     "data": {
      "text/html": [
       "<style scoped>\n",
       "  .ansiout {\n",
       "    display: block;\n",
       "    unicode-bidi: embed;\n",
       "    white-space: pre-wrap;\n",
       "    word-wrap: break-word;\n",
       "    word-break: break-all;\n",
       "    font-family: \"Source Code Pro\", \"Menlo\", monospace;;\n",
       "    font-size: 13px;\n",
       "    color: #555;\n",
       "    margin-left: 4px;\n",
       "    line-height: 19px;\n",
       "  }\n",
       "</style>\n",
       "<div class=\"ansiout\"></div>"
      ]
     },
     "metadata": {},
     "output_type": "display_data"
    }
   ],
   "source": [
    "#criar schema com alguns campos do order events\n",
    "schema = StructType() \\\n",
    ".add('created_at', TimestampType()) \\\n",
    ".add('order_id', StringType()) \\\n",
    ".add('status_id', StringType()) \\\n",
    ".add('value', StringType())"
   ]
  },
  {
   "cell_type": "code",
   "execution_count": 39,
   "metadata": {},
   "outputs": [
    {
     "data": {
      "text/html": [
       "<style scoped>\n",
       "  .ansiout {\n",
       "    display: block;\n",
       "    unicode-bidi: embed;\n",
       "    white-space: pre-wrap;\n",
       "    word-wrap: break-word;\n",
       "    word-break: break-all;\n",
       "    font-family: \"Source Code Pro\", \"Menlo\", monospace;;\n",
       "    font-size: 13px;\n",
       "    color: #555;\n",
       "    margin-left: 4px;\n",
       "    line-height: 19px;\n",
       "  }\n",
       "</style>\n",
       "<div class=\"ansiout\"></div>"
      ]
     },
     "metadata": {},
     "output_type": "display_data"
    }
   ],
   "source": [
    "#cria um DF com a estrutura do schema\n",
    "orderEvents = parquetDF\\\n",
    "        .select(from_json(col(\"value\"), schema).alias(\"orderEvents\"))"
   ]
  },
  {
   "cell_type": "code",
   "execution_count": 40,
   "metadata": {},
   "outputs": [
    {
     "data": {
      "text/html": [
       "<style scoped>\n",
       "  .ansiout {\n",
       "    display: block;\n",
       "    unicode-bidi: embed;\n",
       "    white-space: pre-wrap;\n",
       "    word-wrap: break-word;\n",
       "    word-break: break-all;\n",
       "    font-family: \"Source Code Pro\", \"Menlo\", monospace;;\n",
       "    font-size: 13px;\n",
       "    color: #555;\n",
       "    margin-left: 4px;\n",
       "    line-height: 19px;\n",
       "  }\n",
       "</style>\n",
       "<div class=\"ansiout\">+-------------------+--------------------+--------------------+----------+\n",
       "         created_at|            order_id|           status_id|     value|\n",
       "+-------------------+--------------------+--------------------+----------+\n",
       "2019-01-06 16:20:27|0013fc5c-4c10-440...|d0a3ffd5-4e48-4cc...| CONCLUDED|\n",
       "2019-01-05 21:40:22|001a3efd-debc-414...|59ed8c63-41c2-4bc...| CONCLUDED|\n",
       "2019-01-05 19:38:32|001a3efd-debc-414...|b06594e2-76a8-4e0...|    PLACED|\n",
       "2019-01-05 19:38:31|001a3efd-debc-414...|259d7d3f-9a24-4f4...|REGISTERED|\n",
       "2019-01-30 04:00:07|001d98c0-2741-472...|dd7356e0-2a11-405...| CONCLUDED|\n",
       "+-------------------+--------------------+--------------------+----------+\n",
       "only showing top 5 rows\n",
       "\n",
       "</div>"
      ]
     },
     "metadata": {},
     "output_type": "display_data"
    }
   ],
   "source": [
    "#remove o format json do dado\n",
    "orderEventsDF = orderEvents.select(\"orderEvents.*\")\n",
    "\n",
    "orderEventsDF.show(5)"
   ]
  },
  {
   "cell_type": "code",
   "execution_count": 41,
   "metadata": {},
   "outputs": [
    {
     "data": {
      "text/html": [
       "<style scoped>\n",
       "  .ansiout {\n",
       "    display: block;\n",
       "    unicode-bidi: embed;\n",
       "    white-space: pre-wrap;\n",
       "    word-wrap: break-word;\n",
       "    word-break: break-all;\n",
       "    font-family: \"Source Code Pro\", \"Menlo\", monospace;;\n",
       "    font-size: 13px;\n",
       "    color: #555;\n",
       "    margin-left: 4px;\n",
       "    line-height: 19px;\n",
       "  }\n",
       "</style>\n",
       "<div class=\"ansiout\"></div>"
      ]
     },
     "metadata": {},
     "output_type": "display_data"
    }
   ],
   "source": [
    "orderEventsDF.createOrReplaceTempView('orderEvents')"
   ]
  },
  {
   "cell_type": "code",
   "execution_count": 42,
   "metadata": {},
   "outputs": [
    {
     "data": {
      "text/html": [
       "<style scoped>\n",
       "  .table-result-container {\n",
       "    max-height: 300px;\n",
       "    overflow: auto;\n",
       "  }\n",
       "  table, th, td {\n",
       "    border: 1px solid black;\n",
       "    border-collapse: collapse;\n",
       "  }\n",
       "  th, td {\n",
       "    padding: 5px;\n",
       "  }\n",
       "  th {\n",
       "    text-align: left;\n",
       "  }\n",
       "</style><div class='table-result-container'><table class='table-result'><thead style='background-color: white'><tr><th>created_at</th><th>order_id</th><th>status_id</th><th>value</th></tr></thead><tbody><tr><td>2019-01-06T16:20:27.000+0000</td><td>0013fc5c-4c10-4402-886c-1b8166e4632e</td><td>d0a3ffd5-4e48-4cc4-9739-d5764678c19f</td><td>CONCLUDED</td></tr><tr><td>2019-01-05T21:40:22.000+0000</td><td>001a3efd-debc-414e-83ca-e7ba6945aed6</td><td>59ed8c63-41c2-4bc7-acdd-de7ce85e0cf3</td><td>CONCLUDED</td></tr><tr><td>2019-01-05T19:38:32.000+0000</td><td>001a3efd-debc-414e-83ca-e7ba6945aed6</td><td>b06594e2-76a8-4e0b-b3bc-526145e86e64</td><td>PLACED</td></tr><tr><td>2019-01-05T19:38:31.000+0000</td><td>001a3efd-debc-414e-83ca-e7ba6945aed6</td><td>259d7d3f-9a24-4f4f-b7d0-df5b333707ad</td><td>REGISTERED</td></tr><tr><td>2019-01-30T04:00:07.000+0000</td><td>001d98c0-2741-472d-a2bc-16b5cee1a0e1</td><td>dd7356e0-2a11-4053-ab35-a4b077fcd24a</td><td>CONCLUDED</td></tr></tbody></table></div>"
      ]
     },
     "metadata": {},
     "output_type": "display_data"
    }
   ],
   "source": [
    "%sql select * from orderEvents limit 5"
   ]
  },
  {
   "cell_type": "code",
   "execution_count": 43,
   "metadata": {},
   "outputs": [
    {
     "data": {
      "text/html": [
       "<style scoped>\n",
       "  .ansiout {\n",
       "    display: block;\n",
       "    unicode-bidi: embed;\n",
       "    white-space: pre-wrap;\n",
       "    word-wrap: break-word;\n",
       "    word-break: break-all;\n",
       "    font-family: \"Source Code Pro\", \"Menlo\", monospace;;\n",
       "    font-size: 13px;\n",
       "    color: #555;\n",
       "    margin-left: 4px;\n",
       "    line-height: 19px;\n",
       "  }\n",
       "</style>\n",
       "<div class=\"ansiout\"></div>"
      ]
     },
     "metadata": {},
     "output_type": "display_data"
    }
   ],
   "source": [
    "#Até esse ponto, acredito que foi entrega o ETL building\n",
    "#analise pode ser feito em SQL\n",
    "#dado está estruturado. Coluna items foi deixado o json dentro ao invés de fazer o explode em varias colunas, pois náo será usada\n",
    "#para anaálise\n",
    "#ETL esta utilizando pyspark para auto scaling"
   ]
  },
  {
   "cell_type": "code",
   "execution_count": 44,
   "metadata": {},
   "outputs": [
    {
     "data": {
      "text/html": [
       "<style scoped>\n",
       "  .table-result-container {\n",
       "    max-height: 300px;\n",
       "    overflow: auto;\n",
       "  }\n",
       "  table, th, td {\n",
       "    border: 1px solid black;\n",
       "    border-collapse: collapse;\n",
       "  }\n",
       "  th, td {\n",
       "    padding: 5px;\n",
       "  }\n",
       "  th {\n",
       "    text-align: left;\n",
       "  }\n",
       "</style><div class='table-result-container'><table class='table-result'><thead style='background-color: white'><tr><th>delivery_address_city</th><th>delivery_address_state</th><th>substring(order_created_at, 1, 10)</th><th>count(delivery_address_city)</th></tr></thead><tbody><tr><td>SAO PAULO</td><td>SP</td><td>2019-01-29</td><td>31137</td></tr><tr><td>SAO PAULO</td><td>SP</td><td>2019-01-15</td><td>28490</td></tr><tr><td>SAO PAULO</td><td>SP</td><td>2019-01-22</td><td>27405</td></tr><tr><td>SAO PAULO</td><td>SP</td><td>2019-01-10</td><td>26762</td></tr><tr><td>SAO PAULO</td><td>SP</td><td>2019-01-28</td><td>25577</td></tr><tr><td>SAO PAULO</td><td>SP</td><td>2019-01-30</td><td>25477</td></tr><tr><td>SAO PAULO</td><td>SP</td><td>2019-01-09</td><td>25133</td></tr><tr><td>SAO PAULO</td><td>SP</td><td>2019-01-21</td><td>24440</td></tr><tr><td>SAO PAULO</td><td>SP</td><td>2019-01-14</td><td>24016</td></tr><tr><td>SAO PAULO</td><td>SP</td><td>2019-01-25</td><td>23247</td></tr></tbody></table></div>"
      ]
     },
     "metadata": {},
     "output_type": "display_data"
    }
   ],
   "source": [
    "\n",
    "%sql select delivery_address_city,delivery_address_state, substr(order_created_at,1,10), count(delivery_address_city) from order group by delivery_address_city,delivery_address_state, substr(order_created_at,1,10) order by 4 desc limit 10;"
   ]
  },
  {
   "cell_type": "code",
   "execution_count": 45,
   "metadata": {},
   "outputs": [
    {
     "data": {
      "text/html": [
       "<style scoped>\n",
       "  .ansiout {\n",
       "    display: block;\n",
       "    unicode-bidi: embed;\n",
       "    white-space: pre-wrap;\n",
       "    word-wrap: break-word;\n",
       "    word-break: break-all;\n",
       "    font-family: \"Source Code Pro\", \"Menlo\", monospace;;\n",
       "    font-size: 13px;\n",
       "    color: #555;\n",
       "    margin-left: 4px;\n",
       "    line-height: 19px;\n",
       "  }\n",
       "</style>\n",
       "<div class=\"ansiout\"></div>"
      ]
     },
     "metadata": {},
     "output_type": "display_data"
    }
   ],
   "source": [
    "#Select para trazer o count de ordens por cidade e estado\n",
    "#Count of orders per day for each city and state in our database\n",
    "ordersCityAndStateSql = sqlContext.sql(\"\"\" select delivery_address_city,delivery_address_state, substr(order_created_at,1,10) as order_created_at, count(delivery_address_city) as quantidade from order group by delivery_address_city,delivery_address_state, substr(order_created_at,1,10) order by 4 desc \"\"\")"
   ]
  },
  {
   "cell_type": "code",
   "execution_count": 46,
   "metadata": {},
   "outputs": [
    {
     "data": {
      "text/html": [
       "<style scoped>\n",
       "  .ansiout {\n",
       "    display: block;\n",
       "    unicode-bidi: embed;\n",
       "    white-space: pre-wrap;\n",
       "    word-wrap: break-word;\n",
       "    word-break: break-all;\n",
       "    font-family: \"Source Code Pro\", \"Menlo\", monospace;;\n",
       "    font-size: 13px;\n",
       "    color: #555;\n",
       "    margin-left: 4px;\n",
       "    line-height: 19px;\n",
       "  }\n",
       "</style>\n",
       "<div class=\"ansiout\">+---------------------+----------------------+----------------------------------+----------------------------+\n",
       "delivery_address_city|delivery_address_state|substring(order_created_at, 1, 10)|count(delivery_address_city)|\n",
       "+---------------------+----------------------+----------------------------------+----------------------------+\n",
       "            SAO PAULO|                    SP|                        2019-01-29|                       31137|\n",
       "            SAO PAULO|                    SP|                        2019-01-15|                       28490|\n",
       "            SAO PAULO|                    SP|                        2019-01-22|                       27405|\n",
       "            SAO PAULO|                    SP|                        2019-01-10|                       26762|\n",
       "            SAO PAULO|                    SP|                        2019-01-28|                       25577|\n",
       "+---------------------+----------------------+----------------------------------+----------------------------+\n",
       "only showing top 5 rows\n",
       "\n",
       "</div>"
      ]
     },
     "metadata": {},
     "output_type": "display_data"
    }
   ],
   "source": [
    "ordersCityAndStateSql.show(5)"
   ]
  },
  {
   "cell_type": "code",
   "execution_count": 47,
   "metadata": {},
   "outputs": [
    {
     "data": {
      "text/html": [
       "<style scoped>\n",
       "  .table-result-container {\n",
       "    max-height: 300px;\n",
       "    overflow: auto;\n",
       "  }\n",
       "  table, th, td {\n",
       "    border: 1px solid black;\n",
       "    border-collapse: collapse;\n",
       "  }\n",
       "  th, td {\n",
       "    padding: 5px;\n",
       "  }\n",
       "  th {\n",
       "    text-align: left;\n",
       "  }\n",
       "</style><div class='table-result-container'><table class='table-result'><thead style='background-color: white'><tr><th>customer_id</th><th>merchant_id</th></tr></thead><tbody><tr><td>00039466-560f-4e57-85a2-d4753cd901be</td><td>d0a9153a-44dd-4414-9e8d-eb18b79f4b46</td></tr><tr><td>00039466-560f-4e57-85a2-d4753cd901be</td><td>a8636ed6-de84-4c8a-8814-cc596a6baa53</td></tr><tr><td>00039466-560f-4e57-85a2-d4753cd901be</td><td>0852aa91-5cc8-4218-82d3-6cb7a10b7c3b</td></tr><tr><td>00039466-560f-4e57-85a2-d4753cd901be</td><td>e9509550-65f4-4b18-8991-484a848e3b01</td></tr><tr><td>00039466-560f-4e57-85a2-d4753cd901be</td><td>606123db-a3d4-4158-8040-e3a1fa8bd16b</td></tr><tr><td>00039466-560f-4e57-85a2-d4753cd901be</td><td>8e8ac07c-e366-4e45-809f-2745a2e6a6e4</td></tr><tr><td>00039466-560f-4e57-85a2-d4753cd901be</td><td>3f5b1137-ed98-4105-aa92-893b04741684</td></tr><tr><td>001a1267-31a3-4f5b-a028-d7e323864b08</td><td>e36b52b5-f1a8-4b55-b077-814634068c84</td></tr><tr><td>001a1267-31a3-4f5b-a028-d7e323864b08</td><td>e35819a6-3968-4c1f-88a9-26178de9b9c8</td></tr><tr><td>001a1267-31a3-4f5b-a028-d7e323864b08</td><td>be11e8c3-6901-4f8a-affb-f1c243d682d2</td></tr><tr><td>001a1267-31a3-4f5b-a028-d7e323864b08</td><td>ef7495ef-776c-46b2-a750-35e54578f9a5</td></tr><tr><td>001a1267-31a3-4f5b-a028-d7e323864b08</td><td>16bb7fb2-0f6b-4810-badf-5f6ed776f37a</td></tr><tr><td>001a1267-31a3-4f5b-a028-d7e323864b08</td><td>95630aa6-b916-42f5-8ab2-ac0e5590f3f0</td></tr><tr><td>001a1267-31a3-4f5b-a028-d7e323864b08</td><td>8ab3be07-b346-41cc-bb63-89e806516432</td></tr><tr><td>001a1267-31a3-4f5b-a028-d7e323864b08</td><td>c2deb290-3fa0-4a6d-8d7b-111ea10644fa</td></tr><tr><td>001a1267-31a3-4f5b-a028-d7e323864b08</td><td>78b24fd3-a9bf-4d8c-8b11-384d7c652413</td></tr><tr><td>001a1267-31a3-4f5b-a028-d7e323864b08</td><td>b746a05a-592f-4c4c-af53-408f7fa1d75e</td></tr><tr><td>003ae1d5-67b8-4a04-b055-0e4e9622771a</td><td>714e40d8-5573-4eb0-8625-1939c413c8de</td></tr><tr><td>003ae1d5-67b8-4a04-b055-0e4e9622771a</td><td>1d8cde47-ea3c-41ae-aae4-89122c7da4a9</td></tr><tr><td>003ae1d5-67b8-4a04-b055-0e4e9622771a</td><td>4cf9c18b-94f3-47b8-b0b5-fcd6478c125a</td></tr></tbody></table></div>"
      ]
     },
     "metadata": {},
     "output_type": "display_data"
    }
   ],
   "source": [
    "%sql  select r.customer_id, r.merchant_id from (\n",
    "select customer_id, merchant_id, rank() over (partition by customer_id order by count_merchant desc ) as rank from (         \n",
    "      select customer_id, merchant_id, count(merchant_id) as count_merchant from order  group by customer_id, merchant_id order by 3 desc )) r where rank <= 10 limit 20       \n",
    "                "
   ]
  },
  {
   "cell_type": "code",
   "execution_count": 48,
   "metadata": {},
   "outputs": [
    {
     "data": {
      "text/html": [
       "<style scoped>\n",
       "  .table-result-container {\n",
       "    max-height: 300px;\n",
       "    overflow: auto;\n",
       "  }\n",
       "  table, th, td {\n",
       "    border: 1px solid black;\n",
       "    border-collapse: collapse;\n",
       "  }\n",
       "  th, td {\n",
       "    padding: 5px;\n",
       "  }\n",
       "  th {\n",
       "    text-align: left;\n",
       "  }\n",
       "</style><div class='table-result-container'><table class='table-result'><thead style='background-color: white'><tr><th>customer_id</th><th>merchant_id</th><th>count(merchant_id)</th></tr></thead><tbody><tr><td>001a1267-31a3-4f5b-a028-d7e323864b08</td><td>e36b52b5-f1a8-4b55-b077-814634068c84</td><td>3</td></tr><tr><td>001a1267-31a3-4f5b-a028-d7e323864b08</td><td>be11e8c3-6901-4f8a-affb-f1c243d682d2</td><td>2</td></tr><tr><td>001a1267-31a3-4f5b-a028-d7e323864b08</td><td>16bb7fb2-0f6b-4810-badf-5f6ed776f37a</td><td>2</td></tr><tr><td>001a1267-31a3-4f5b-a028-d7e323864b08</td><td>ef7495ef-776c-46b2-a750-35e54578f9a5</td><td>2</td></tr><tr><td>001a1267-31a3-4f5b-a028-d7e323864b08</td><td>e35819a6-3968-4c1f-88a9-26178de9b9c8</td><td>2</td></tr><tr><td>001a1267-31a3-4f5b-a028-d7e323864b08</td><td>8ab3be07-b346-41cc-bb63-89e806516432</td><td>1</td></tr><tr><td>001a1267-31a3-4f5b-a028-d7e323864b08</td><td>95630aa6-b916-42f5-8ab2-ac0e5590f3f0</td><td>1</td></tr><tr><td>001a1267-31a3-4f5b-a028-d7e323864b08</td><td>b746a05a-592f-4c4c-af53-408f7fa1d75e</td><td>1</td></tr><tr><td>001a1267-31a3-4f5b-a028-d7e323864b08</td><td>78b24fd3-a9bf-4d8c-8b11-384d7c652413</td><td>1</td></tr><tr><td>001a1267-31a3-4f5b-a028-d7e323864b08</td><td>c2deb290-3fa0-4a6d-8d7b-111ea10644fa</td><td>1</td></tr></tbody></table></div>"
      ]
     },
     "metadata": {},
     "output_type": "display_data"
    }
   ],
   "source": [
    "%sql select customer_id, merchant_id, count(merchant_id) from order where customer_id ='001a1267-31a3-4f5b-a028-d7e323864b08' group by customer_id, merchant_id order by 3 desc"
   ]
  },
  {
   "cell_type": "code",
   "execution_count": 49,
   "metadata": {},
   "outputs": [
    {
     "data": {
      "text/html": [
       "<style scoped>\n",
       "  .ansiout {\n",
       "    display: block;\n",
       "    unicode-bidi: embed;\n",
       "    white-space: pre-wrap;\n",
       "    word-wrap: break-word;\n",
       "    word-break: break-all;\n",
       "    font-family: \"Source Code Pro\", \"Menlo\", monospace;;\n",
       "    font-size: 13px;\n",
       "    color: #555;\n",
       "    margin-left: 4px;\n",
       "    line-height: 19px;\n",
       "  }\n",
       "</style>\n",
       "<div class=\"ansiout\"></div>"
      ]
     },
     "metadata": {},
     "output_type": "display_data"
    }
   ],
   "source": [
    "#Select para trazer os 10 restaurantes por cliente\n",
    "#Top 10 restaurants per customer\n",
    "top10RestaurantCustomerSql = sqlContext.sql(\"\"\" select r.customer_id, r.merchant_id from (\n",
    "select customer_id, merchant_id, rank() over (partition by customer_id order by count_merchant desc ) as rank from (         \n",
    "      select customer_id, merchant_id, count(merchant_id) as count_merchant from order  group by customer_id, merchant_id order by 3 desc )) r where rank <= 10  \"\"\")"
   ]
  },
  {
   "cell_type": "code",
   "execution_count": 50,
   "metadata": {},
   "outputs": [
    {
     "data": {
      "text/html": [
       "<style scoped>\n",
       "  .ansiout {\n",
       "    display: block;\n",
       "    unicode-bidi: embed;\n",
       "    white-space: pre-wrap;\n",
       "    word-wrap: break-word;\n",
       "    word-break: break-all;\n",
       "    font-family: \"Source Code Pro\", \"Menlo\", monospace;;\n",
       "    font-size: 13px;\n",
       "    color: #555;\n",
       "    margin-left: 4px;\n",
       "    line-height: 19px;\n",
       "  }\n",
       "</style>\n",
       "<div class=\"ansiout\">+--------------------+--------------------+\n",
       "         customer_id|         merchant_id|\n",
       "+--------------------+--------------------+\n",
       "00039466-560f-4e5...|d0a9153a-44dd-441...|\n",
       "00039466-560f-4e5...|a8636ed6-de84-4c8...|\n",
       "00039466-560f-4e5...|0852aa91-5cc8-421...|\n",
       "00039466-560f-4e5...|606123db-a3d4-415...|\n",
       "00039466-560f-4e5...|e9509550-65f4-4b1...|\n",
       "+--------------------+--------------------+\n",
       "only showing top 5 rows\n",
       "\n",
       "</div>"
      ]
     },
     "metadata": {},
     "output_type": "display_data"
    }
   ],
   "source": [
    "top10RestaurantCustomerSql.show(5)"
   ]
  },
  {
   "cell_type": "code",
   "execution_count": 51,
   "metadata": {},
   "outputs": [
    {
     "data": {
      "text/html": [
       "<style scoped>\n",
       "  .ansiout {\n",
       "    display: block;\n",
       "    unicode-bidi: embed;\n",
       "    white-space: pre-wrap;\n",
       "    word-wrap: break-word;\n",
       "    word-break: break-all;\n",
       "    font-family: \"Source Code Pro\", \"Menlo\", monospace;;\n",
       "    font-size: 13px;\n",
       "    color: #555;\n",
       "    margin-left: 4px;\n",
       "    line-height: 19px;\n",
       "  }\n",
       "</style>\n",
       "<div class=\"ansiout\">Out[49]: [&#39;{&#34;delivery_address_city&#34;:&#34;SAO PAULO&#34;,&#34;delivery_address_state&#34;:&#34;SP&#34;,&#34;substring(order_created_at, 1, 10)&#34;:&#34;2019-01-29&#34;,&#34;count(delivery_address_city)&#34;:31137}&#39;,\n",
       " &#39;{&#34;delivery_address_city&#34;:&#34;SAO PAULO&#34;,&#34;delivery_address_state&#34;:&#34;SP&#34;,&#34;substring(order_created_at, 1, 10)&#34;:&#34;2019-01-15&#34;,&#34;count(delivery_address_city)&#34;:28490}&#39;,\n",
       " &#39;{&#34;delivery_address_city&#34;:&#34;SAO PAULO&#34;,&#34;delivery_address_state&#34;:&#34;SP&#34;,&#34;substring(order_created_at, 1, 10)&#34;:&#34;2019-01-22&#34;,&#34;count(delivery_address_city)&#34;:27405}&#39;,\n",
       " &#39;{&#34;delivery_address_city&#34;:&#34;SAO PAULO&#34;,&#34;delivery_address_state&#34;:&#34;SP&#34;,&#34;substring(order_created_at, 1, 10)&#34;:&#34;2019-01-10&#34;,&#34;count(delivery_address_city)&#34;:26762}&#39;,\n",
       " &#39;{&#34;delivery_address_city&#34;:&#34;SAO PAULO&#34;,&#34;delivery_address_state&#34;:&#34;SP&#34;,&#34;substring(order_created_at, 1, 10)&#34;:&#34;2019-01-28&#34;,&#34;count(delivery_address_city)&#34;:25577}&#39;]</div>"
      ]
     },
     "metadata": {},
     "output_type": "display_data"
    }
   ],
   "source": [
    "ordersCityAndState.take(5)"
   ]
  },
  {
   "cell_type": "code",
   "execution_count": 52,
   "metadata": {},
   "outputs": [
    {
     "data": {
      "text/html": [
       "<style scoped>\n",
       "  .ansiout {\n",
       "    display: block;\n",
       "    unicode-bidi: embed;\n",
       "    white-space: pre-wrap;\n",
       "    word-wrap: break-word;\n",
       "    word-break: break-all;\n",
       "    font-family: \"Source Code Pro\", \"Menlo\", monospace;;\n",
       "    font-size: 13px;\n",
       "    color: #555;\n",
       "    margin-left: 4px;\n",
       "    line-height: 19px;\n",
       "  }\n",
       "</style>\n",
       "<div class=\"ansiout\"></div>"
      ]
     },
     "metadata": {},
     "output_type": "display_data"
    }
   ],
   "source": [
    "ordersCityAndStateSql.write.format('json').save('/arquivos/pedidos.JSON')"
   ]
  },
  {
   "cell_type": "code",
   "execution_count": 53,
   "metadata": {},
   "outputs": [
    {
     "data": {
      "text/html": [
       "<style scoped>\n",
       "  .ansiout {\n",
       "    display: block;\n",
       "    unicode-bidi: embed;\n",
       "    white-space: pre-wrap;\n",
       "    word-wrap: break-word;\n",
       "    word-break: break-all;\n",
       "    font-family: \"Source Code Pro\", \"Menlo\", monospace;;\n",
       "    font-size: 13px;\n",
       "    color: #555;\n",
       "    margin-left: 4px;\n",
       "    line-height: 19px;\n",
       "  }\n",
       "</style>\n",
       "<div class=\"ansiout\"></div>"
      ]
     },
     "metadata": {},
     "output_type": "display_data"
    }
   ],
   "source": [
    "top10RestaurantCustomerSql.write.format('json').save('/arquivos/top10.JSON')"
   ]
  },
  {
   "cell_type": "code",
   "execution_count": 54,
   "metadata": {},
   "outputs": [],
   "source": []
  }
 ],
 "metadata": {
  "kernelspec": {
   "display_name": "Python 3",
   "language": "python",
   "name": "python3"
  },
  "language_info": {
   "codemirror_mode": {
    "name": "ipython",
    "version": 3
   },
   "file_extension": ".py",
   "mimetype": "text/x-python",
   "name": "python",
   "nbconvert_exporter": "python",
   "pygments_lexer": "ipython3",
   "version": "3.7.0"
  },
  "name": "ifood-challenge",
  "notebookId": 979752391776920
 },
 "nbformat": 4,
 "nbformat_minor": 1
}
